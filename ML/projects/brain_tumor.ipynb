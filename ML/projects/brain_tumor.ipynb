{
  "nbformat": 4,
  "nbformat_minor": 0,
  "metadata": {
    "colab": {
      "provenance": []
    },
    "kernelspec": {
      "display_name": "Python 3",
      "name": "python3"
    },
    "language_info": {
      "name": "python"
    }
  },
  "cells": [
    {
      "cell_type": "code",
      "metadata": {
        "id": "2AwgxT91oBoC"
      },
      "source": [
        "import numpy as np # calculator library\n",
        "import pandas as pd # dataframe library\n",
        "import matplotlib.pyplot as plt # data visualization library\n",
        "import seaborn as sns # data visualization library based on matplotlib\n",
        "from collections import Counter\n",
        "from sklearn.preprocessing import StandardScaler\n",
        "%matplotlib inline"
      ],
      "execution_count": null,
      "outputs": []
    },
    {
      "cell_type": "code",
      "metadata": {
        "colab": {
          "base_uri": "https://localhost:8080/"
        },
        "id": "cGaRzAr77Ml8",
        "outputId": "97a8e9a7-04bb-4054-9d30-35793f61710e"
      },
      "source": [
        "from google.colab import drive\n",
        "drive.mount('/content/drive')"
      ],
      "execution_count": null,
      "outputs": [
        {
          "output_type": "stream",
          "name": "stdout",
          "text": [
            "Drive already mounted at /content/drive; to attempt to forcibly remount, call drive.mount(\"/content/drive\", force_remount=True).\n"
          ]
        }
      ]
    },
    {
      "cell_type": "code",
      "metadata": {
        "id": "W_Ma4njipjqW"
      },
      "source": [
        "df = pd.read_csv(\"/content/drive/MyDrive/Brain_Tumor/BrainTumor.csv\")"
      ],
      "execution_count": null,
      "outputs": []
    },
    {
      "cell_type": "code",
      "metadata": {
        "colab": {
          "base_uri": "https://localhost:8080/",
          "height": 206
        },
        "id": "IJ56238sG8gX",
        "outputId": "e02b721d-bbc4-4bbd-eaf6-d5119edb83fe"
      },
      "source": [
        "df.head()"
      ],
      "execution_count": null,
      "outputs": [
        {
          "output_type": "execute_result",
          "data": {
            "text/html": [
              "<div>\n",
              "<style scoped>\n",
              "    .dataframe tbody tr th:only-of-type {\n",
              "        vertical-align: middle;\n",
              "    }\n",
              "\n",
              "    .dataframe tbody tr th {\n",
              "        vertical-align: top;\n",
              "    }\n",
              "\n",
              "    .dataframe thead th {\n",
              "        text-align: right;\n",
              "    }\n",
              "</style>\n",
              "<table border=\"1\" class=\"dataframe\">\n",
              "  <thead>\n",
              "    <tr style=\"text-align: right;\">\n",
              "      <th></th>\n",
              "      <th>Image</th>\n",
              "      <th>Class</th>\n",
              "      <th>Mean</th>\n",
              "      <th>Variance</th>\n",
              "      <th>Standard Deviation</th>\n",
              "      <th>Entropy</th>\n",
              "      <th>Skewness</th>\n",
              "      <th>Kurtosis</th>\n",
              "      <th>Contrast</th>\n",
              "      <th>Energy</th>\n",
              "      <th>ASM</th>\n",
              "      <th>Homogeneity</th>\n",
              "      <th>Dissimilarity</th>\n",
              "      <th>Correlation</th>\n",
              "      <th>Coarseness</th>\n",
              "    </tr>\n",
              "  </thead>\n",
              "  <tbody>\n",
              "    <tr>\n",
              "      <th>0</th>\n",
              "      <td>Image1</td>\n",
              "      <td>0</td>\n",
              "      <td>6.535339</td>\n",
              "      <td>619.587845</td>\n",
              "      <td>24.891522</td>\n",
              "      <td>0.109059</td>\n",
              "      <td>4.276477</td>\n",
              "      <td>18.900575</td>\n",
              "      <td>98.613971</td>\n",
              "      <td>0.293314</td>\n",
              "      <td>0.086033</td>\n",
              "      <td>0.530941</td>\n",
              "      <td>4.473346</td>\n",
              "      <td>0.981939</td>\n",
              "      <td>7.458341e-155</td>\n",
              "    </tr>\n",
              "    <tr>\n",
              "      <th>1</th>\n",
              "      <td>Image2</td>\n",
              "      <td>0</td>\n",
              "      <td>8.749969</td>\n",
              "      <td>805.957634</td>\n",
              "      <td>28.389393</td>\n",
              "      <td>0.266538</td>\n",
              "      <td>3.718116</td>\n",
              "      <td>14.464618</td>\n",
              "      <td>63.858816</td>\n",
              "      <td>0.475051</td>\n",
              "      <td>0.225674</td>\n",
              "      <td>0.651352</td>\n",
              "      <td>3.220072</td>\n",
              "      <td>0.988834</td>\n",
              "      <td>7.458341e-155</td>\n",
              "    </tr>\n",
              "    <tr>\n",
              "      <th>2</th>\n",
              "      <td>Image3</td>\n",
              "      <td>1</td>\n",
              "      <td>7.341095</td>\n",
              "      <td>1143.808219</td>\n",
              "      <td>33.820234</td>\n",
              "      <td>0.001467</td>\n",
              "      <td>5.061750</td>\n",
              "      <td>26.479563</td>\n",
              "      <td>81.867206</td>\n",
              "      <td>0.031917</td>\n",
              "      <td>0.001019</td>\n",
              "      <td>0.268275</td>\n",
              "      <td>5.981800</td>\n",
              "      <td>0.978014</td>\n",
              "      <td>7.458341e-155</td>\n",
              "    </tr>\n",
              "    <tr>\n",
              "      <th>3</th>\n",
              "      <td>Image4</td>\n",
              "      <td>1</td>\n",
              "      <td>5.958145</td>\n",
              "      <td>959.711985</td>\n",
              "      <td>30.979219</td>\n",
              "      <td>0.001477</td>\n",
              "      <td>5.677977</td>\n",
              "      <td>33.428845</td>\n",
              "      <td>151.229741</td>\n",
              "      <td>0.032024</td>\n",
              "      <td>0.001026</td>\n",
              "      <td>0.243851</td>\n",
              "      <td>7.700919</td>\n",
              "      <td>0.964189</td>\n",
              "      <td>7.458341e-155</td>\n",
              "    </tr>\n",
              "    <tr>\n",
              "      <th>4</th>\n",
              "      <td>Image5</td>\n",
              "      <td>0</td>\n",
              "      <td>7.315231</td>\n",
              "      <td>729.540579</td>\n",
              "      <td>27.010009</td>\n",
              "      <td>0.146761</td>\n",
              "      <td>4.283221</td>\n",
              "      <td>19.079108</td>\n",
              "      <td>174.988756</td>\n",
              "      <td>0.343849</td>\n",
              "      <td>0.118232</td>\n",
              "      <td>0.501140</td>\n",
              "      <td>6.834689</td>\n",
              "      <td>0.972789</td>\n",
              "      <td>7.458341e-155</td>\n",
              "    </tr>\n",
              "  </tbody>\n",
              "</table>\n",
              "</div>"
            ],
            "text/plain": [
              "    Image  Class      Mean  ...  Dissimilarity  Correlation     Coarseness\n",
              "0  Image1      0  6.535339  ...       4.473346     0.981939  7.458341e-155\n",
              "1  Image2      0  8.749969  ...       3.220072     0.988834  7.458341e-155\n",
              "2  Image3      1  7.341095  ...       5.981800     0.978014  7.458341e-155\n",
              "3  Image4      1  5.958145  ...       7.700919     0.964189  7.458341e-155\n",
              "4  Image5      0  7.315231  ...       6.834689     0.972789  7.458341e-155\n",
              "\n",
              "[5 rows x 15 columns]"
            ]
          },
          "metadata": {},
          "execution_count": 748
        }
      ]
    },
    {
      "cell_type": "code",
      "metadata": {
        "colab": {
          "base_uri": "https://localhost:8080/",
          "height": 206
        },
        "id": "-JkMVCAk8vD4",
        "outputId": "83511738-d35c-48e2-9e8a-85757cd3632a"
      },
      "source": [
        "df.tail()"
      ],
      "execution_count": null,
      "outputs": [
        {
          "output_type": "execute_result",
          "data": {
            "text/html": [
              "<div>\n",
              "<style scoped>\n",
              "    .dataframe tbody tr th:only-of-type {\n",
              "        vertical-align: middle;\n",
              "    }\n",
              "\n",
              "    .dataframe tbody tr th {\n",
              "        vertical-align: top;\n",
              "    }\n",
              "\n",
              "    .dataframe thead th {\n",
              "        text-align: right;\n",
              "    }\n",
              "</style>\n",
              "<table border=\"1\" class=\"dataframe\">\n",
              "  <thead>\n",
              "    <tr style=\"text-align: right;\">\n",
              "      <th></th>\n",
              "      <th>Image</th>\n",
              "      <th>Class</th>\n",
              "      <th>Mean</th>\n",
              "      <th>Variance</th>\n",
              "      <th>Standard Deviation</th>\n",
              "      <th>Entropy</th>\n",
              "      <th>Skewness</th>\n",
              "      <th>Kurtosis</th>\n",
              "      <th>Contrast</th>\n",
              "      <th>Energy</th>\n",
              "      <th>ASM</th>\n",
              "      <th>Homogeneity</th>\n",
              "      <th>Dissimilarity</th>\n",
              "      <th>Correlation</th>\n",
              "      <th>Coarseness</th>\n",
              "    </tr>\n",
              "  </thead>\n",
              "  <tbody>\n",
              "    <tr>\n",
              "      <th>3757</th>\n",
              "      <td>Image3758</td>\n",
              "      <td>0</td>\n",
              "      <td>21.234512</td>\n",
              "      <td>1208.850174</td>\n",
              "      <td>34.768523</td>\n",
              "      <td>0.063774</td>\n",
              "      <td>2.082079</td>\n",
              "      <td>4.647310</td>\n",
              "      <td>158.437600</td>\n",
              "      <td>0.220666</td>\n",
              "      <td>0.048693</td>\n",
              "      <td>0.487131</td>\n",
              "      <td>5.211739</td>\n",
              "      <td>0.950972</td>\n",
              "      <td>7.458341e-155</td>\n",
              "    </tr>\n",
              "    <tr>\n",
              "      <th>3758</th>\n",
              "      <td>Image3759</td>\n",
              "      <td>0</td>\n",
              "      <td>20.435349</td>\n",
              "      <td>1227.151440</td>\n",
              "      <td>35.030721</td>\n",
              "      <td>0.066763</td>\n",
              "      <td>2.144625</td>\n",
              "      <td>4.882034</td>\n",
              "      <td>161.158675</td>\n",
              "      <td>0.225931</td>\n",
              "      <td>0.051045</td>\n",
              "      <td>0.502712</td>\n",
              "      <td>5.083126</td>\n",
              "      <td>0.952749</td>\n",
              "      <td>7.458341e-155</td>\n",
              "    </tr>\n",
              "    <tr>\n",
              "      <th>3759</th>\n",
              "      <td>Image3760</td>\n",
              "      <td>0</td>\n",
              "      <td>18.011520</td>\n",
              "      <td>1151.582765</td>\n",
              "      <td>33.934978</td>\n",
              "      <td>0.068396</td>\n",
              "      <td>2.308349</td>\n",
              "      <td>5.579498</td>\n",
              "      <td>167.130118</td>\n",
              "      <td>0.228930</td>\n",
              "      <td>0.052409</td>\n",
              "      <td>0.492269</td>\n",
              "      <td>5.103700</td>\n",
              "      <td>0.952181</td>\n",
              "      <td>7.458341e-155</td>\n",
              "    </tr>\n",
              "    <tr>\n",
              "      <th>3760</th>\n",
              "      <td>Image3761</td>\n",
              "      <td>0</td>\n",
              "      <td>13.330429</td>\n",
              "      <td>945.732779</td>\n",
              "      <td>30.752769</td>\n",
              "      <td>0.087872</td>\n",
              "      <td>2.732822</td>\n",
              "      <td>7.757570</td>\n",
              "      <td>223.812932</td>\n",
              "      <td>0.261527</td>\n",
              "      <td>0.068397</td>\n",
              "      <td>0.480064</td>\n",
              "      <td>6.439784</td>\n",
              "      <td>0.940898</td>\n",
              "      <td>7.458341e-155</td>\n",
              "    </tr>\n",
              "    <tr>\n",
              "      <th>3761</th>\n",
              "      <td>Image3762</td>\n",
              "      <td>0</td>\n",
              "      <td>6.110138</td>\n",
              "      <td>480.884025</td>\n",
              "      <td>21.929068</td>\n",
              "      <td>0.118171</td>\n",
              "      <td>4.110669</td>\n",
              "      <td>17.538826</td>\n",
              "      <td>239.251388</td>\n",
              "      <td>0.306224</td>\n",
              "      <td>0.093773</td>\n",
              "      <td>0.494333</td>\n",
              "      <td>6.787329</td>\n",
              "      <td>0.938731</td>\n",
              "      <td>7.458341e-155</td>\n",
              "    </tr>\n",
              "  </tbody>\n",
              "</table>\n",
              "</div>"
            ],
            "text/plain": [
              "          Image  Class       Mean  ...  Dissimilarity  Correlation     Coarseness\n",
              "3757  Image3758      0  21.234512  ...       5.211739     0.950972  7.458341e-155\n",
              "3758  Image3759      0  20.435349  ...       5.083126     0.952749  7.458341e-155\n",
              "3759  Image3760      0  18.011520  ...       5.103700     0.952181  7.458341e-155\n",
              "3760  Image3761      0  13.330429  ...       6.439784     0.940898  7.458341e-155\n",
              "3761  Image3762      0   6.110138  ...       6.787329     0.938731  7.458341e-155\n",
              "\n",
              "[5 rows x 15 columns]"
            ]
          },
          "metadata": {},
          "execution_count": 749
        }
      ]
    },
    {
      "cell_type": "code",
      "metadata": {
        "colab": {
          "base_uri": "https://localhost:8080/"
        },
        "id": "rOeTpNSuHZYH",
        "outputId": "671a1828-e660-4dad-bd7b-734eae119e5f"
      },
      "source": [
        "df.isnull().sum"
      ],
      "execution_count": null,
      "outputs": [
        {
          "output_type": "execute_result",
          "data": {
            "text/plain": [
              "<bound method DataFrame.sum of       Image  Class   Mean  ...  Dissimilarity  Correlation  Coarseness\n",
              "0     False  False  False  ...          False        False       False\n",
              "1     False  False  False  ...          False        False       False\n",
              "2     False  False  False  ...          False        False       False\n",
              "3     False  False  False  ...          False        False       False\n",
              "4     False  False  False  ...          False        False       False\n",
              "...     ...    ...    ...  ...            ...          ...         ...\n",
              "3757  False  False  False  ...          False        False       False\n",
              "3758  False  False  False  ...          False        False       False\n",
              "3759  False  False  False  ...          False        False       False\n",
              "3760  False  False  False  ...          False        False       False\n",
              "3761  False  False  False  ...          False        False       False\n",
              "\n",
              "[3762 rows x 15 columns]>"
            ]
          },
          "metadata": {},
          "execution_count": 750
        }
      ]
    },
    {
      "cell_type": "code",
      "metadata": {
        "colab": {
          "base_uri": "https://localhost:8080/"
        },
        "id": "LIjKDbcB3WLO",
        "outputId": "6a241684-908b-45a8-b092-c8976cf5d5c9"
      },
      "source": [
        "n = df.isnull().sum()\n",
        "n"
      ],
      "execution_count": null,
      "outputs": [
        {
          "output_type": "execute_result",
          "data": {
            "text/plain": [
              "Image                 0\n",
              "Class                 0\n",
              "Mean                  0\n",
              "Variance              0\n",
              "Standard Deviation    0\n",
              "Entropy               0\n",
              "Skewness              0\n",
              "Kurtosis              0\n",
              "Contrast              0\n",
              "Energy                0\n",
              "ASM                   0\n",
              "Homogeneity           0\n",
              "Dissimilarity         0\n",
              "Correlation           0\n",
              "Coarseness            0\n",
              "dtype: int64"
            ]
          },
          "metadata": {},
          "execution_count": 751
        }
      ]
    },
    {
      "cell_type": "code",
      "metadata": {
        "colab": {
          "base_uri": "https://localhost:8080/",
          "height": 306
        },
        "id": "XN50ikZQ35JF",
        "outputId": "9b28c85e-595c-482b-f448-dc75d3a1216e"
      },
      "source": [
        "plt.bar(n[0],n[1])\n",
        "\n",
        "#xticks \n",
        "plt.xticks(rotation=70) \n",
        "\n",
        "#x-axis labels \n",
        "plt.xlabel('Food item') \n",
        "\n",
        "#y-axis labels \n",
        "plt.ylabel('Quantity sold') \n",
        "\n",
        "#plot title \n",
        "plt.title('Most popular food') \n",
        "plt.show()\n"
      ],
      "execution_count": null,
      "outputs": [
        {
          "output_type": "display_data",
          "data": {
            "image/png": "[encoded data removed]",
            "text/plain": [
              "<Figure size 432x288 with 1 Axes>"
            ]
          },
          "metadata": {
            "needs_background": "light"
          }
        }
      ]
    },
    {
      "cell_type": "code",
      "metadata": {
        "colab": {
          "base_uri": "https://localhost:8080/"
        },
        "id": "8g1pqjHc3eEb",
        "outputId": "d0027d19-281a-4622-a858-906f26847d72"
      },
      "source": [
        "df.isnull().sum().any"
      ],
      "execution_count": null,
      "outputs": [
        {
          "output_type": "execute_result",
          "data": {
            "text/plain": [
              "<bound method Series.any of Image                 0\n",
              "Class                 0\n",
              "Mean                  0\n",
              "Variance              0\n",
              "Standard Deviation    0\n",
              "Entropy               0\n",
              "Skewness              0\n",
              "Kurtosis              0\n",
              "Contrast              0\n",
              "Energy                0\n",
              "ASM                   0\n",
              "Homogeneity           0\n",
              "Dissimilarity         0\n",
              "Correlation           0\n",
              "Coarseness            0\n",
              "dtype: int64>"
            ]
          },
          "metadata": {},
          "execution_count": 753
        }
      ]
    },
    {
      "cell_type": "code",
      "metadata": {
        "colab": {
          "base_uri": "https://localhost:8080/"
        },
        "id": "j6lLgrHxH7GW",
        "outputId": "58db705d-6ff9-449d-9b98-4b14538f527d"
      },
      "source": [
        "df.shape"
      ],
      "execution_count": null,
      "outputs": [
        {
          "output_type": "execute_result",
          "data": {
            "text/plain": [
              "(3762, 15)"
            ]
          },
          "metadata": {},
          "execution_count": 754
        }
      ]
    },
    {
      "cell_type": "code",
      "metadata": {
        "colab": {
          "base_uri": "https://localhost:8080/",
          "height": 351
        },
        "id": "27g504O0IG-I",
        "outputId": "fa005dfc-6d79-4306-8007-2bca3c37fe8a"
      },
      "source": [
        "sns.countplot(df[\"Class\"])"
      ],
      "execution_count": null,
      "outputs": [
        {
          "output_type": "stream",
          "name": "stderr",
          "text": [
            "/usr/local/lib/python3.7/dist-packages/seaborn/_decorators.py:43: FutureWarning: Pass the following variable as a keyword arg: x. From version 0.12, the only valid positional argument will be `data`, and passing other arguments without an explicit keyword will result in an error or misinterpretation.\n",
            "  FutureWarning\n"
          ]
        },
        {
          "output_type": "execute_result",
          "data": {
            "text/plain": [
              "<matplotlib.axes._subplots.AxesSubplot at 0x7fad89103310>"
            ]
          },
          "metadata": {},
          "execution_count": 755
        },
        {
          "output_type": "display_data",
          "data": {
            "image/png": "[encoded data removed]",
            "text/plain": [
              "<Figure size 432x288 with 1 Axes>"
            ]
          },
          "metadata": {
            "needs_background": "light"
          }
        }
      ]
    },
    {
      "cell_type": "code",
      "metadata": {
        "colab": {
          "base_uri": "https://localhost:8080/"
        },
        "id": "gRHCK7J0jftv",
        "outputId": "7221e879-7c5c-4730-c63c-cadc96786ee1"
      },
      "source": [
        "class_counts=df.Class.value_counts()\n",
        "class_counts"
      ],
      "execution_count": null,
      "outputs": [
        {
          "output_type": "execute_result",
          "data": {
            "text/plain": [
              "0    2079\n",
              "1    1683\n",
              "Name: Class, dtype: int64"
            ]
          },
          "metadata": {},
          "execution_count": 756
        }
      ]
    },
    {
      "cell_type": "code",
      "metadata": {
        "colab": {
          "base_uri": "https://localhost:8080/",
          "height": 357
        },
        "id": "r_7GZDINgKOm",
        "outputId": "a440af62-290e-48c3-b958-b325aa10c3de"
      },
      "source": [
        "plt.figure(figsize=(12,6))\n",
        "plt.pie(class_counts, labels=class_counts.index, autopct='%0.f%%', shadow=True, startangle=90)\n",
        "plt.show()"
      ],
      "execution_count": null,
      "outputs": [
        {
          "output_type": "display_data",
          "data": {
            "image/png": "[encoded data removed]",
            "text/plain": [
              "<Figure size 864x432 with 1 Axes>"
            ]
          },
          "metadata": {}
        }
      ]
    },
    {
      "cell_type": "code",
      "metadata": {
        "colab": {
          "base_uri": "https://localhost:8080/"
        },
        "id": "2hcMW8YzIy0n",
        "outputId": "633b4260-6ab5-480f-faf2-0979dbea6d30"
      },
      "source": [
        "df[\"Class\"].value_counts()"
      ],
      "execution_count": null,
      "outputs": [
        {
          "output_type": "execute_result",
          "data": {
            "text/plain": [
              "0    2079\n",
              "1    1683\n",
              "Name: Class, dtype: int64"
            ]
          },
          "metadata": {},
          "execution_count": 758
        }
      ]
    },
    {
      "cell_type": "code",
      "metadata": {
        "colab": {
          "base_uri": "https://localhost:8080/",
          "height": 300
        },
        "id": "NjK8XEf7Jftm",
        "outputId": "8c9e0461-2028-496b-d2ac-d1b93eb7a836"
      },
      "source": [
        "df.describe()"
      ],
      "execution_count": null,
      "outputs": [
        {
          "output_type": "execute_result",
          "data": {
            "text/html": [
              "<div>\n",
              "<style scoped>\n",
              "    .dataframe tbody tr th:only-of-type {\n",
              "        vertical-align: middle;\n",
              "    }\n",
              "\n",
              "    .dataframe tbody tr th {\n",
              "        vertical-align: top;\n",
              "    }\n",
              "\n",
              "    .dataframe thead th {\n",
              "        text-align: right;\n",
              "    }\n",
              "</style>\n",
              "<table border=\"1\" class=\"dataframe\">\n",
              "  <thead>\n",
              "    <tr style=\"text-align: right;\">\n",
              "      <th></th>\n",
              "      <th>Class</th>\n",
              "      <th>Mean</th>\n",
              "      <th>Variance</th>\n",
              "      <th>Standard Deviation</th>\n",
              "      <th>Entropy</th>\n",
              "      <th>Skewness</th>\n",
              "      <th>Kurtosis</th>\n",
              "      <th>Contrast</th>\n",
              "      <th>Energy</th>\n",
              "      <th>ASM</th>\n",
              "      <th>Homogeneity</th>\n",
              "      <th>Dissimilarity</th>\n",
              "      <th>Correlation</th>\n",
              "      <th>Coarseness</th>\n",
              "    </tr>\n",
              "  </thead>\n",
              "  <tbody>\n",
              "    <tr>\n",
              "      <th>count</th>\n",
              "      <td>3762.000000</td>\n",
              "      <td>3762.000000</td>\n",
              "      <td>3762.000000</td>\n",
              "      <td>3762.000000</td>\n",
              "      <td>3762.000000</td>\n",
              "      <td>3762.000000</td>\n",
              "      <td>3762.000000</td>\n",
              "      <td>3762.000000</td>\n",
              "      <td>3762.000000</td>\n",
              "      <td>3762.000000</td>\n",
              "      <td>3762.000000</td>\n",
              "      <td>3762.000000</td>\n",
              "      <td>3762.000000</td>\n",
              "      <td>3.762000e+03</td>\n",
              "    </tr>\n",
              "    <tr>\n",
              "      <th>mean</th>\n",
              "      <td>0.447368</td>\n",
              "      <td>9.488890</td>\n",
              "      <td>711.101063</td>\n",
              "      <td>25.182271</td>\n",
              "      <td>0.073603</td>\n",
              "      <td>4.102727</td>\n",
              "      <td>24.389071</td>\n",
              "      <td>127.961459</td>\n",
              "      <td>0.204705</td>\n",
              "      <td>0.058632</td>\n",
              "      <td>0.479252</td>\n",
              "      <td>4.698498</td>\n",
              "      <td>0.955767</td>\n",
              "      <td>7.458341e-155</td>\n",
              "    </tr>\n",
              "    <tr>\n",
              "      <th>std</th>\n",
              "      <td>0.497288</td>\n",
              "      <td>5.728022</td>\n",
              "      <td>467.466896</td>\n",
              "      <td>8.773526</td>\n",
              "      <td>0.070269</td>\n",
              "      <td>2.560940</td>\n",
              "      <td>56.434747</td>\n",
              "      <td>109.499601</td>\n",
              "      <td>0.129352</td>\n",
              "      <td>0.058300</td>\n",
              "      <td>0.127929</td>\n",
              "      <td>1.850173</td>\n",
              "      <td>0.026157</td>\n",
              "      <td>0.000000e+00</td>\n",
              "    </tr>\n",
              "    <tr>\n",
              "      <th>min</th>\n",
              "      <td>0.000000</td>\n",
              "      <td>0.078659</td>\n",
              "      <td>3.145628</td>\n",
              "      <td>1.773592</td>\n",
              "      <td>0.000882</td>\n",
              "      <td>1.886014</td>\n",
              "      <td>3.942402</td>\n",
              "      <td>3.194733</td>\n",
              "      <td>0.024731</td>\n",
              "      <td>0.000612</td>\n",
              "      <td>0.105490</td>\n",
              "      <td>0.681121</td>\n",
              "      <td>0.549426</td>\n",
              "      <td>7.458341e-155</td>\n",
              "    </tr>\n",
              "    <tr>\n",
              "      <th>25%</th>\n",
              "      <td>0.000000</td>\n",
              "      <td>4.982395</td>\n",
              "      <td>363.225459</td>\n",
              "      <td>19.058475</td>\n",
              "      <td>0.006856</td>\n",
              "      <td>2.620203</td>\n",
              "      <td>7.252852</td>\n",
              "      <td>72.125208</td>\n",
              "      <td>0.069617</td>\n",
              "      <td>0.004847</td>\n",
              "      <td>0.364973</td>\n",
              "      <td>3.412363</td>\n",
              "      <td>0.947138</td>\n",
              "      <td>7.458341e-155</td>\n",
              "    </tr>\n",
              "    <tr>\n",
              "      <th>50%</th>\n",
              "      <td>0.000000</td>\n",
              "      <td>8.477531</td>\n",
              "      <td>622.580417</td>\n",
              "      <td>24.951560</td>\n",
              "      <td>0.066628</td>\n",
              "      <td>3.422210</td>\n",
              "      <td>12.359088</td>\n",
              "      <td>106.737418</td>\n",
              "      <td>0.225496</td>\n",
              "      <td>0.050849</td>\n",
              "      <td>0.512551</td>\n",
              "      <td>4.482404</td>\n",
              "      <td>0.961610</td>\n",
              "      <td>7.458341e-155</td>\n",
              "    </tr>\n",
              "    <tr>\n",
              "      <th>75%</th>\n",
              "      <td>1.000000</td>\n",
              "      <td>13.212723</td>\n",
              "      <td>966.954319</td>\n",
              "      <td>31.095889</td>\n",
              "      <td>0.113284</td>\n",
              "      <td>4.651737</td>\n",
              "      <td>22.640304</td>\n",
              "      <td>161.059006</td>\n",
              "      <td>0.298901</td>\n",
              "      <td>0.089342</td>\n",
              "      <td>0.575557</td>\n",
              "      <td>5.723821</td>\n",
              "      <td>0.971355</td>\n",
              "      <td>7.458341e-155</td>\n",
              "    </tr>\n",
              "    <tr>\n",
              "      <th>max</th>\n",
              "      <td>1.000000</td>\n",
              "      <td>33.239975</td>\n",
              "      <td>2910.581879</td>\n",
              "      <td>53.949809</td>\n",
              "      <td>0.394539</td>\n",
              "      <td>36.931294</td>\n",
              "      <td>1371.640060</td>\n",
              "      <td>3382.574163</td>\n",
              "      <td>0.589682</td>\n",
              "      <td>0.347725</td>\n",
              "      <td>0.810921</td>\n",
              "      <td>27.827751</td>\n",
              "      <td>0.989972</td>\n",
              "      <td>7.458341e-155</td>\n",
              "    </tr>\n",
              "  </tbody>\n",
              "</table>\n",
              "</div>"
            ],
            "text/plain": [
              "             Class         Mean  ...  Correlation     Coarseness\n",
              "count  3762.000000  3762.000000  ...  3762.000000   3.762000e+03\n",
              "mean      0.447368     9.488890  ...     0.955767  7.458341e-155\n",
              "std       0.497288     5.728022  ...     0.026157   0.000000e+00\n",
              "min       0.000000     0.078659  ...     0.549426  7.458341e-155\n",
              "25%       0.000000     4.982395  ...     0.947138  7.458341e-155\n",
              "50%       0.000000     8.477531  ...     0.961610  7.458341e-155\n",
              "75%       1.000000    13.212723  ...     0.971355  7.458341e-155\n",
              "max       1.000000    33.239975  ...     0.989972  7.458341e-155\n",
              "\n",
              "[8 rows x 14 columns]"
            ]
          },
          "metadata": {},
          "execution_count": 759
        }
      ]
    },
    {
      "cell_type": "code",
      "metadata": {
        "id": "L6dCb1gKN-wG"
      },
      "source": [
        "x = df.drop([\"Image\"],1)\n",
        "# y = df[\"Class\"]"
      ],
      "execution_count": null,
      "outputs": []
    },
    {
      "cell_type": "code",
      "metadata": {
        "colab": {
          "base_uri": "https://localhost:8080/",
          "height": 424
        },
        "id": "4B8U_Sj7-4SH",
        "outputId": "9a8b8044-f149-4975-edbd-95afb1186ab7"
      },
      "source": [
        "x"
      ],
      "execution_count": null,
      "outputs": [
        {
          "output_type": "execute_result",
          "data": {
            "text/html": [
              "<div>\n",
              "<style scoped>\n",
              "    .dataframe tbody tr th:only-of-type {\n",
              "        vertical-align: middle;\n",
              "    }\n",
              "\n",
              "    .dataframe tbody tr th {\n",
              "        vertical-align: top;\n",
              "    }\n",
              "\n",
              "    .dataframe thead th {\n",
              "        text-align: right;\n",
              "    }\n",
              "</style>\n",
              "<table border=\"1\" class=\"dataframe\">\n",
              "  <thead>\n",
              "    <tr style=\"text-align: right;\">\n",
              "      <th></th>\n",
              "      <th>Class</th>\n",
              "      <th>Mean</th>\n",
              "      <th>Variance</th>\n",
              "      <th>Standard Deviation</th>\n",
              "      <th>Entropy</th>\n",
              "      <th>Skewness</th>\n",
              "      <th>Kurtosis</th>\n",
              "      <th>Contrast</th>\n",
              "      <th>Energy</th>\n",
              "      <th>ASM</th>\n",
              "      <th>Homogeneity</th>\n",
              "      <th>Dissimilarity</th>\n",
              "      <th>Correlation</th>\n",
              "      <th>Coarseness</th>\n",
              "    </tr>\n",
              "  </thead>\n",
              "  <tbody>\n",
              "    <tr>\n",
              "      <th>0</th>\n",
              "      <td>0</td>\n",
              "      <td>6.535339</td>\n",
              "      <td>619.587845</td>\n",
              "      <td>24.891522</td>\n",
              "      <td>0.109059</td>\n",
              "      <td>4.276477</td>\n",
              "      <td>18.900575</td>\n",
              "      <td>98.613971</td>\n",
              "      <td>0.293314</td>\n",
              "      <td>0.086033</td>\n",
              "      <td>0.530941</td>\n",
              "      <td>4.473346</td>\n",
              "      <td>0.981939</td>\n",
              "      <td>7.458341e-155</td>\n",
              "    </tr>\n",
              "    <tr>\n",
              "      <th>1</th>\n",
              "      <td>0</td>\n",
              "      <td>8.749969</td>\n",
              "      <td>805.957634</td>\n",
              "      <td>28.389393</td>\n",
              "      <td>0.266538</td>\n",
              "      <td>3.718116</td>\n",
              "      <td>14.464618</td>\n",
              "      <td>63.858816</td>\n",
              "      <td>0.475051</td>\n",
              "      <td>0.225674</td>\n",
              "      <td>0.651352</td>\n",
              "      <td>3.220072</td>\n",
              "      <td>0.988834</td>\n",
              "      <td>7.458341e-155</td>\n",
              "    </tr>\n",
              "    <tr>\n",
              "      <th>2</th>\n",
              "      <td>1</td>\n",
              "      <td>7.341095</td>\n",
              "      <td>1143.808219</td>\n",
              "      <td>33.820234</td>\n",
              "      <td>0.001467</td>\n",
              "      <td>5.061750</td>\n",
              "      <td>26.479563</td>\n",
              "      <td>81.867206</td>\n",
              "      <td>0.031917</td>\n",
              "      <td>0.001019</td>\n",
              "      <td>0.268275</td>\n",
              "      <td>5.981800</td>\n",
              "      <td>0.978014</td>\n",
              "      <td>7.458341e-155</td>\n",
              "    </tr>\n",
              "    <tr>\n",
              "      <th>3</th>\n",
              "      <td>1</td>\n",
              "      <td>5.958145</td>\n",
              "      <td>959.711985</td>\n",
              "      <td>30.979219</td>\n",
              "      <td>0.001477</td>\n",
              "      <td>5.677977</td>\n",
              "      <td>33.428845</td>\n",
              "      <td>151.229741</td>\n",
              "      <td>0.032024</td>\n",
              "      <td>0.001026</td>\n",
              "      <td>0.243851</td>\n",
              "      <td>7.700919</td>\n",
              "      <td>0.964189</td>\n",
              "      <td>7.458341e-155</td>\n",
              "    </tr>\n",
              "    <tr>\n",
              "      <th>4</th>\n",
              "      <td>0</td>\n",
              "      <td>7.315231</td>\n",
              "      <td>729.540579</td>\n",
              "      <td>27.010009</td>\n",
              "      <td>0.146761</td>\n",
              "      <td>4.283221</td>\n",
              "      <td>19.079108</td>\n",
              "      <td>174.988756</td>\n",
              "      <td>0.343849</td>\n",
              "      <td>0.118232</td>\n",
              "      <td>0.501140</td>\n",
              "      <td>6.834689</td>\n",
              "      <td>0.972789</td>\n",
              "      <td>7.458341e-155</td>\n",
              "    </tr>\n",
              "    <tr>\n",
              "      <th>...</th>\n",
              "      <td>...</td>\n",
              "      <td>...</td>\n",
              "      <td>...</td>\n",
              "      <td>...</td>\n",
              "      <td>...</td>\n",
              "      <td>...</td>\n",
              "      <td>...</td>\n",
              "      <td>...</td>\n",
              "      <td>...</td>\n",
              "      <td>...</td>\n",
              "      <td>...</td>\n",
              "      <td>...</td>\n",
              "      <td>...</td>\n",
              "      <td>...</td>\n",
              "    </tr>\n",
              "    <tr>\n",
              "      <th>3757</th>\n",
              "      <td>0</td>\n",
              "      <td>21.234512</td>\n",
              "      <td>1208.850174</td>\n",
              "      <td>34.768523</td>\n",
              "      <td>0.063774</td>\n",
              "      <td>2.082079</td>\n",
              "      <td>4.647310</td>\n",
              "      <td>158.437600</td>\n",
              "      <td>0.220666</td>\n",
              "      <td>0.048693</td>\n",
              "      <td>0.487131</td>\n",
              "      <td>5.211739</td>\n",
              "      <td>0.950972</td>\n",
              "      <td>7.458341e-155</td>\n",
              "    </tr>\n",
              "    <tr>\n",
              "      <th>3758</th>\n",
              "      <td>0</td>\n",
              "      <td>20.435349</td>\n",
              "      <td>1227.151440</td>\n",
              "      <td>35.030721</td>\n",
              "      <td>0.066763</td>\n",
              "      <td>2.144625</td>\n",
              "      <td>4.882034</td>\n",
              "      <td>161.158675</td>\n",
              "      <td>0.225931</td>\n",
              "      <td>0.051045</td>\n",
              "      <td>0.502712</td>\n",
              "      <td>5.083126</td>\n",
              "      <td>0.952749</td>\n",
              "      <td>7.458341e-155</td>\n",
              "    </tr>\n",
              "    <tr>\n",
              "      <th>3759</th>\n",
              "      <td>0</td>\n",
              "      <td>18.011520</td>\n",
              "      <td>1151.582765</td>\n",
              "      <td>33.934978</td>\n",
              "      <td>0.068396</td>\n",
              "      <td>2.308349</td>\n",
              "      <td>5.579498</td>\n",
              "      <td>167.130118</td>\n",
              "      <td>0.228930</td>\n",
              "      <td>0.052409</td>\n",
              "      <td>0.492269</td>\n",
              "      <td>5.103700</td>\n",
              "      <td>0.952181</td>\n",
              "      <td>7.458341e-155</td>\n",
              "    </tr>\n",
              "    <tr>\n",
              "      <th>3760</th>\n",
              "      <td>0</td>\n",
              "      <td>13.330429</td>\n",
              "      <td>945.732779</td>\n",
              "      <td>30.752769</td>\n",
              "      <td>0.087872</td>\n",
              "      <td>2.732822</td>\n",
              "      <td>7.757570</td>\n",
              "      <td>223.812932</td>\n",
              "      <td>0.261527</td>\n",
              "      <td>0.068397</td>\n",
              "      <td>0.480064</td>\n",
              "      <td>6.439784</td>\n",
              "      <td>0.940898</td>\n",
              "      <td>7.458341e-155</td>\n",
              "    </tr>\n",
              "    <tr>\n",
              "      <th>3761</th>\n",
              "      <td>0</td>\n",
              "      <td>6.110138</td>\n",
              "      <td>480.884025</td>\n",
              "      <td>21.929068</td>\n",
              "      <td>0.118171</td>\n",
              "      <td>4.110669</td>\n",
              "      <td>17.538826</td>\n",
              "      <td>239.251388</td>\n",
              "      <td>0.306224</td>\n",
              "      <td>0.093773</td>\n",
              "      <td>0.494333</td>\n",
              "      <td>6.787329</td>\n",
              "      <td>0.938731</td>\n",
              "      <td>7.458341e-155</td>\n",
              "    </tr>\n",
              "  </tbody>\n",
              "</table>\n",
              "<p>3762 rows × 14 columns</p>\n",
              "</div>"
            ],
            "text/plain": [
              "      Class       Mean     Variance  ...  Dissimilarity  Correlation     Coarseness\n",
              "0         0   6.535339   619.587845  ...       4.473346     0.981939  7.458341e-155\n",
              "1         0   8.749969   805.957634  ...       3.220072     0.988834  7.458341e-155\n",
              "2         1   7.341095  1143.808219  ...       5.981800     0.978014  7.458341e-155\n",
              "3         1   5.958145   959.711985  ...       7.700919     0.964189  7.458341e-155\n",
              "4         0   7.315231   729.540579  ...       6.834689     0.972789  7.458341e-155\n",
              "...     ...        ...          ...  ...            ...          ...            ...\n",
              "3757      0  21.234512  1208.850174  ...       5.211739     0.950972  7.458341e-155\n",
              "3758      0  20.435349  1227.151440  ...       5.083126     0.952749  7.458341e-155\n",
              "3759      0  18.011520  1151.582765  ...       5.103700     0.952181  7.458341e-155\n",
              "3760      0  13.330429   945.732779  ...       6.439784     0.940898  7.458341e-155\n",
              "3761      0   6.110138   480.884025  ...       6.787329     0.938731  7.458341e-155\n",
              "\n",
              "[3762 rows x 14 columns]"
            ]
          },
          "metadata": {},
          "execution_count": 761
        }
      ]
    },
    {
      "cell_type": "code",
      "metadata": {
        "colab": {
          "base_uri": "https://localhost:8080/",
          "height": 1000
        },
        "id": "pM1k5wRm6pln",
        "outputId": "b14ca31d-1622-4cb3-8fc9-7acda688781b"
      },
      "source": [
        "x.plot(kind=\"box\",subplots=True,layout=(7,2),figsize=(10,20));"
      ],
      "execution_count": null,
      "outputs": [
        {
          "output_type": "display_data",
          "data": {
            "image/png": "[encoded data removed]",
            "text/plain": [
              "<Figure size 720x1440 with 14 Axes>"
            ]
          },
          "metadata": {
            "needs_background": "light"
          }
        }
      ]
    },
    {
      "cell_type": "code",
      "metadata": {
        "id": "aTsoquVicqhV"
      },
      "source": [
        "correlations = x.corr()"
      ],
      "execution_count": null,
      "outputs": []
    },
    {
      "cell_type": "code",
      "metadata": {
        "colab": {
          "base_uri": "https://localhost:8080/",
          "height": 344
        },
        "id": "VD1Xm_Soctub",
        "outputId": "6fefc56f-fdf6-439a-f074-d9403a134669"
      },
      "source": [
        "sns.heatmap(correlations)\n",
        "plt.show()"
      ],
      "execution_count": null,
      "outputs": [
        {
          "output_type": "display_data",
          "data": {
            "image/png": "[encoded data removed]",
            "text/plain": [
              "<Figure size 432x288 with 2 Axes>"
            ]
          },
          "metadata": {
            "needs_background": "light"
          }
        }
      ]
    },
    {
      "cell_type": "markdown",
      "metadata": {
        "id": "mIFb6IKFvIvn"
      },
      "source": [
        "**Outlier detection**"
      ]
    },
    {
      "cell_type": "code",
      "metadata": {
        "id": "RGOBybvFvIQY"
      },
      "source": [
        "def detect_outliers(df, features):\n",
        "    outlier_indices=[]\n",
        "    \n",
        "    for c in features:\n",
        "        #1st quartile\n",
        "        Q1 = np.percentile(df[c],25)\n",
        "        #3rd quartile\n",
        "        Q3 = np.percentile(df[c],75)\n",
        "        #IQR\n",
        "        IQR = Q3 - Q1\n",
        "        #Outlier step\n",
        "        outlier_step = IQR * 1.5\n",
        "        #detect outlier and their indices\n",
        "        outlier_list_col = df[(df[c] < Q1 - outlier_step) | (df[c] > Q3 + outlier_step)].index\n",
        "        # store indices\n",
        "        outlier_indices.extend(outlier_list_col)\n",
        "        \n",
        "    outlier_indices = Counter(outlier_indices) \n",
        "    multiple_outliers = list(i for i, v in outlier_indices.items() if v > 2)\n",
        "    return multiple_outliers"
      ],
      "execution_count": null,
      "outputs": []
    },
    {
      "cell_type": "code",
      "metadata": {
        "colab": {
          "base_uri": "https://localhost:8080/",
          "height": 424
        },
        "id": "SjSa_XOIlp3l",
        "outputId": "2e0bd021-778f-4692-e3cf-d1765efcc6a0"
      },
      "source": [
        "x.loc[detect_outliers(x,[\"Class\",\"Mean\", \"Variance\", \"Standard Deviation\", \"Entropy\", \"Skewness\", \"Kurtosis\", \"Contrast\", \"Energy\", \"ASM\", \"Homogeneity\", \"Dissimilarity\", \"Correlation\", \"Coarseness\"])]"
      ],
      "execution_count": null,
      "outputs": [
        {
          "output_type": "execute_result",
          "data": {
            "text/html": [
              "<div>\n",
              "<style scoped>\n",
              "    .dataframe tbody tr th:only-of-type {\n",
              "        vertical-align: middle;\n",
              "    }\n",
              "\n",
              "    .dataframe tbody tr th {\n",
              "        vertical-align: top;\n",
              "    }\n",
              "\n",
              "    .dataframe thead th {\n",
              "        text-align: right;\n",
              "    }\n",
              "</style>\n",
              "<table border=\"1\" class=\"dataframe\">\n",
              "  <thead>\n",
              "    <tr style=\"text-align: right;\">\n",
              "      <th></th>\n",
              "      <th>Class</th>\n",
              "      <th>Mean</th>\n",
              "      <th>Variance</th>\n",
              "      <th>Standard Deviation</th>\n",
              "      <th>Entropy</th>\n",
              "      <th>Skewness</th>\n",
              "      <th>Kurtosis</th>\n",
              "      <th>Contrast</th>\n",
              "      <th>Energy</th>\n",
              "      <th>ASM</th>\n",
              "      <th>Homogeneity</th>\n",
              "      <th>Dissimilarity</th>\n",
              "      <th>Correlation</th>\n",
              "      <th>Coarseness</th>\n",
              "    </tr>\n",
              "  </thead>\n",
              "  <tbody>\n",
              "    <tr>\n",
              "      <th>69</th>\n",
              "      <td>0</td>\n",
              "      <td>32.974335</td>\n",
              "      <td>2630.774546</td>\n",
              "      <td>51.291077</td>\n",
              "      <td>0.058575</td>\n",
              "      <td>1.990064</td>\n",
              "      <td>4.263510</td>\n",
              "      <td>386.946380</td>\n",
              "      <td>0.211036</td>\n",
              "      <td>0.044536</td>\n",
              "      <td>0.500845</td>\n",
              "      <td>6.379274</td>\n",
              "      <td>0.944384</td>\n",
              "      <td>7.458341e-155</td>\n",
              "    </tr>\n",
              "    <tr>\n",
              "      <th>686</th>\n",
              "      <td>0</td>\n",
              "      <td>32.832153</td>\n",
              "      <td>2598.678936</td>\n",
              "      <td>50.977239</td>\n",
              "      <td>0.058397</td>\n",
              "      <td>1.986680</td>\n",
              "      <td>4.252588</td>\n",
              "      <td>352.123803</td>\n",
              "      <td>0.210743</td>\n",
              "      <td>0.044413</td>\n",
              "      <td>0.484549</td>\n",
              "      <td>6.569327</td>\n",
              "      <td>0.948522</td>\n",
              "      <td>7.458341e-155</td>\n",
              "    </tr>\n",
              "    <tr>\n",
              "      <th>687</th>\n",
              "      <td>0</td>\n",
              "      <td>30.854248</td>\n",
              "      <td>2470.834261</td>\n",
              "      <td>49.707487</td>\n",
              "      <td>0.055421</td>\n",
              "      <td>2.061911</td>\n",
              "      <td>4.543874</td>\n",
              "      <td>390.810324</td>\n",
              "      <td>0.204924</td>\n",
              "      <td>0.041994</td>\n",
              "      <td>0.492595</td>\n",
              "      <td>6.407239</td>\n",
              "      <td>0.939324</td>\n",
              "      <td>7.458341e-155</td>\n",
              "    </tr>\n",
              "    <tr>\n",
              "      <th>897</th>\n",
              "      <td>1</td>\n",
              "      <td>27.777878</td>\n",
              "      <td>2514.006331</td>\n",
              "      <td>50.139868</td>\n",
              "      <td>0.027225</td>\n",
              "      <td>2.278691</td>\n",
              "      <td>5.446137</td>\n",
              "      <td>178.210179</td>\n",
              "      <td>0.141348</td>\n",
              "      <td>0.019979</td>\n",
              "      <td>0.495875</td>\n",
              "      <td>4.166667</td>\n",
              "      <td>0.965503</td>\n",
              "      <td>7.458341e-155</td>\n",
              "    </tr>\n",
              "    <tr>\n",
              "      <th>1115</th>\n",
              "      <td>0</td>\n",
              "      <td>32.206467</td>\n",
              "      <td>2604.354097</td>\n",
              "      <td>51.032873</td>\n",
              "      <td>0.056008</td>\n",
              "      <td>2.019719</td>\n",
              "      <td>4.381090</td>\n",
              "      <td>423.663642</td>\n",
              "      <td>0.206095</td>\n",
              "      <td>0.042475</td>\n",
              "      <td>0.502325</td>\n",
              "      <td>6.503498</td>\n",
              "      <td>0.939392</td>\n",
              "      <td>7.458341e-155</td>\n",
              "    </tr>\n",
              "    <tr>\n",
              "      <th>...</th>\n",
              "      <td>...</td>\n",
              "      <td>...</td>\n",
              "      <td>...</td>\n",
              "      <td>...</td>\n",
              "      <td>...</td>\n",
              "      <td>...</td>\n",
              "      <td>...</td>\n",
              "      <td>...</td>\n",
              "      <td>...</td>\n",
              "      <td>...</td>\n",
              "      <td>...</td>\n",
              "      <td>...</td>\n",
              "      <td>...</td>\n",
              "      <td>...</td>\n",
              "    </tr>\n",
              "    <tr>\n",
              "      <th>2018</th>\n",
              "      <td>1</td>\n",
              "      <td>3.244949</td>\n",
              "      <td>373.645816</td>\n",
              "      <td>19.329920</td>\n",
              "      <td>0.007513</td>\n",
              "      <td>6.608718</td>\n",
              "      <td>45.579790</td>\n",
              "      <td>502.839177</td>\n",
              "      <td>0.073153</td>\n",
              "      <td>0.005351</td>\n",
              "      <td>0.330291</td>\n",
              "      <td>9.558205</td>\n",
              "      <td>0.892741</td>\n",
              "      <td>7.458341e-155</td>\n",
              "    </tr>\n",
              "    <tr>\n",
              "      <th>2427</th>\n",
              "      <td>1</td>\n",
              "      <td>7.558182</td>\n",
              "      <td>920.975312</td>\n",
              "      <td>30.347575</td>\n",
              "      <td>0.001708</td>\n",
              "      <td>4.521819</td>\n",
              "      <td>21.463864</td>\n",
              "      <td>361.850250</td>\n",
              "      <td>0.034499</td>\n",
              "      <td>0.001190</td>\n",
              "      <td>0.265279</td>\n",
              "      <td>9.771750</td>\n",
              "      <td>0.895138</td>\n",
              "      <td>7.458341e-155</td>\n",
              "    </tr>\n",
              "    <tr>\n",
              "      <th>3237</th>\n",
              "      <td>1</td>\n",
              "      <td>7.219604</td>\n",
              "      <td>900.344489</td>\n",
              "      <td>30.005741</td>\n",
              "      <td>0.010625</td>\n",
              "      <td>4.480255</td>\n",
              "      <td>20.410193</td>\n",
              "      <td>376.339211</td>\n",
              "      <td>0.087184</td>\n",
              "      <td>0.007601</td>\n",
              "      <td>0.382338</td>\n",
              "      <td>6.041842</td>\n",
              "      <td>0.901592</td>\n",
              "      <td>7.458341e-155</td>\n",
              "    </tr>\n",
              "    <tr>\n",
              "      <th>3359</th>\n",
              "      <td>1</td>\n",
              "      <td>8.734390</td>\n",
              "      <td>1022.432511</td>\n",
              "      <td>31.975499</td>\n",
              "      <td>0.001776</td>\n",
              "      <td>4.232220</td>\n",
              "      <td>18.921784</td>\n",
              "      <td>319.973663</td>\n",
              "      <td>0.035230</td>\n",
              "      <td>0.001241</td>\n",
              "      <td>0.252318</td>\n",
              "      <td>9.486008</td>\n",
              "      <td>0.920333</td>\n",
              "      <td>7.458341e-155</td>\n",
              "    </tr>\n",
              "    <tr>\n",
              "      <th>3547</th>\n",
              "      <td>1</td>\n",
              "      <td>4.715195</td>\n",
              "      <td>799.149845</td>\n",
              "      <td>28.269238</td>\n",
              "      <td>0.084591</td>\n",
              "      <td>6.497660</td>\n",
              "      <td>43.882659</td>\n",
              "      <td>846.312802</td>\n",
              "      <td>0.256496</td>\n",
              "      <td>0.065790</td>\n",
              "      <td>0.404810</td>\n",
              "      <td>12.248390</td>\n",
              "      <td>0.939207</td>\n",
              "      <td>7.458341e-155</td>\n",
              "    </tr>\n",
              "  </tbody>\n",
              "</table>\n",
              "<p>168 rows × 14 columns</p>\n",
              "</div>"
            ],
            "text/plain": [
              "      Class       Mean     Variance  ...  Dissimilarity  Correlation     Coarseness\n",
              "69        0  32.974335  2630.774546  ...       6.379274     0.944384  7.458341e-155\n",
              "686       0  32.832153  2598.678936  ...       6.569327     0.948522  7.458341e-155\n",
              "687       0  30.854248  2470.834261  ...       6.407239     0.939324  7.458341e-155\n",
              "897       1  27.777878  2514.006331  ...       4.166667     0.965503  7.458341e-155\n",
              "1115      0  32.206467  2604.354097  ...       6.503498     0.939392  7.458341e-155\n",
              "...     ...        ...          ...  ...            ...          ...            ...\n",
              "2018      1   3.244949   373.645816  ...       9.558205     0.892741  7.458341e-155\n",
              "2427      1   7.558182   920.975312  ...       9.771750     0.895138  7.458341e-155\n",
              "3237      1   7.219604   900.344489  ...       6.041842     0.901592  7.458341e-155\n",
              "3359      1   8.734390  1022.432511  ...       9.486008     0.920333  7.458341e-155\n",
              "3547      1   4.715195   799.149845  ...      12.248390     0.939207  7.458341e-155\n",
              "\n",
              "[168 rows x 14 columns]"
            ]
          },
          "metadata": {},
          "execution_count": 766
        }
      ]
    },
    {
      "cell_type": "code",
      "metadata": {
        "id": "d34sZ2Icnyqh"
      },
      "source": [
        "# drop Outliers\n",
        "x = x.drop(detect_outliers(x,[\"Class\",\"Mean\", \"Variance\", \"Standard Deviation\", \"Entropy\", \"Skewness\", \"Kurtosis\", \"Contrast\", \"Energy\", \"ASM\", \"Homogeneity\", \"Dissimilarity\", \"Correlation\", \"Coarseness\"]),axis=0).reset_index(drop=True)\n",
        "\n"
      ],
      "execution_count": null,
      "outputs": []
    },
    {
      "cell_type": "code",
      "metadata": {
        "colab": {
          "base_uri": "https://localhost:8080/",
          "height": 424
        },
        "id": "Fsx5C0Xd_Rfv",
        "outputId": "fa16f26a-d2d9-4d20-ae97-3b34f4d2b13d"
      },
      "source": [
        "x"
      ],
      "execution_count": null,
      "outputs": [
        {
          "output_type": "execute_result",
          "data": {
            "text/html": [
              "<div>\n",
              "<style scoped>\n",
              "    .dataframe tbody tr th:only-of-type {\n",
              "        vertical-align: middle;\n",
              "    }\n",
              "\n",
              "    .dataframe tbody tr th {\n",
              "        vertical-align: top;\n",
              "    }\n",
              "\n",
              "    .dataframe thead th {\n",
              "        text-align: right;\n",
              "    }\n",
              "</style>\n",
              "<table border=\"1\" class=\"dataframe\">\n",
              "  <thead>\n",
              "    <tr style=\"text-align: right;\">\n",
              "      <th></th>\n",
              "      <th>Class</th>\n",
              "      <th>Mean</th>\n",
              "      <th>Variance</th>\n",
              "      <th>Standard Deviation</th>\n",
              "      <th>Entropy</th>\n",
              "      <th>Skewness</th>\n",
              "      <th>Kurtosis</th>\n",
              "      <th>Contrast</th>\n",
              "      <th>Energy</th>\n",
              "      <th>ASM</th>\n",
              "      <th>Homogeneity</th>\n",
              "      <th>Dissimilarity</th>\n",
              "      <th>Correlation</th>\n",
              "      <th>Coarseness</th>\n",
              "    </tr>\n",
              "  </thead>\n",
              "  <tbody>\n",
              "    <tr>\n",
              "      <th>0</th>\n",
              "      <td>0</td>\n",
              "      <td>6.535339</td>\n",
              "      <td>619.587845</td>\n",
              "      <td>24.891522</td>\n",
              "      <td>0.109059</td>\n",
              "      <td>4.276477</td>\n",
              "      <td>18.900575</td>\n",
              "      <td>98.613971</td>\n",
              "      <td>0.293314</td>\n",
              "      <td>0.086033</td>\n",
              "      <td>0.530941</td>\n",
              "      <td>4.473346</td>\n",
              "      <td>0.981939</td>\n",
              "      <td>7.458341e-155</td>\n",
              "    </tr>\n",
              "    <tr>\n",
              "      <th>1</th>\n",
              "      <td>0</td>\n",
              "      <td>8.749969</td>\n",
              "      <td>805.957634</td>\n",
              "      <td>28.389393</td>\n",
              "      <td>0.266538</td>\n",
              "      <td>3.718116</td>\n",
              "      <td>14.464618</td>\n",
              "      <td>63.858816</td>\n",
              "      <td>0.475051</td>\n",
              "      <td>0.225674</td>\n",
              "      <td>0.651352</td>\n",
              "      <td>3.220072</td>\n",
              "      <td>0.988834</td>\n",
              "      <td>7.458341e-155</td>\n",
              "    </tr>\n",
              "    <tr>\n",
              "      <th>2</th>\n",
              "      <td>1</td>\n",
              "      <td>7.341095</td>\n",
              "      <td>1143.808219</td>\n",
              "      <td>33.820234</td>\n",
              "      <td>0.001467</td>\n",
              "      <td>5.061750</td>\n",
              "      <td>26.479563</td>\n",
              "      <td>81.867206</td>\n",
              "      <td>0.031917</td>\n",
              "      <td>0.001019</td>\n",
              "      <td>0.268275</td>\n",
              "      <td>5.981800</td>\n",
              "      <td>0.978014</td>\n",
              "      <td>7.458341e-155</td>\n",
              "    </tr>\n",
              "    <tr>\n",
              "      <th>3</th>\n",
              "      <td>1</td>\n",
              "      <td>5.958145</td>\n",
              "      <td>959.711985</td>\n",
              "      <td>30.979219</td>\n",
              "      <td>0.001477</td>\n",
              "      <td>5.677977</td>\n",
              "      <td>33.428845</td>\n",
              "      <td>151.229741</td>\n",
              "      <td>0.032024</td>\n",
              "      <td>0.001026</td>\n",
              "      <td>0.243851</td>\n",
              "      <td>7.700919</td>\n",
              "      <td>0.964189</td>\n",
              "      <td>7.458341e-155</td>\n",
              "    </tr>\n",
              "    <tr>\n",
              "      <th>4</th>\n",
              "      <td>0</td>\n",
              "      <td>7.315231</td>\n",
              "      <td>729.540579</td>\n",
              "      <td>27.010009</td>\n",
              "      <td>0.146761</td>\n",
              "      <td>4.283221</td>\n",
              "      <td>19.079108</td>\n",
              "      <td>174.988756</td>\n",
              "      <td>0.343849</td>\n",
              "      <td>0.118232</td>\n",
              "      <td>0.501140</td>\n",
              "      <td>6.834689</td>\n",
              "      <td>0.972789</td>\n",
              "      <td>7.458341e-155</td>\n",
              "    </tr>\n",
              "    <tr>\n",
              "      <th>...</th>\n",
              "      <td>...</td>\n",
              "      <td>...</td>\n",
              "      <td>...</td>\n",
              "      <td>...</td>\n",
              "      <td>...</td>\n",
              "      <td>...</td>\n",
              "      <td>...</td>\n",
              "      <td>...</td>\n",
              "      <td>...</td>\n",
              "      <td>...</td>\n",
              "      <td>...</td>\n",
              "      <td>...</td>\n",
              "      <td>...</td>\n",
              "      <td>...</td>\n",
              "    </tr>\n",
              "    <tr>\n",
              "      <th>3589</th>\n",
              "      <td>0</td>\n",
              "      <td>21.234512</td>\n",
              "      <td>1208.850174</td>\n",
              "      <td>34.768523</td>\n",
              "      <td>0.063774</td>\n",
              "      <td>2.082079</td>\n",
              "      <td>4.647310</td>\n",
              "      <td>158.437600</td>\n",
              "      <td>0.220666</td>\n",
              "      <td>0.048693</td>\n",
              "      <td>0.487131</td>\n",
              "      <td>5.211739</td>\n",
              "      <td>0.950972</td>\n",
              "      <td>7.458341e-155</td>\n",
              "    </tr>\n",
              "    <tr>\n",
              "      <th>3590</th>\n",
              "      <td>0</td>\n",
              "      <td>20.435349</td>\n",
              "      <td>1227.151440</td>\n",
              "      <td>35.030721</td>\n",
              "      <td>0.066763</td>\n",
              "      <td>2.144625</td>\n",
              "      <td>4.882034</td>\n",
              "      <td>161.158675</td>\n",
              "      <td>0.225931</td>\n",
              "      <td>0.051045</td>\n",
              "      <td>0.502712</td>\n",
              "      <td>5.083126</td>\n",
              "      <td>0.952749</td>\n",
              "      <td>7.458341e-155</td>\n",
              "    </tr>\n",
              "    <tr>\n",
              "      <th>3591</th>\n",
              "      <td>0</td>\n",
              "      <td>18.011520</td>\n",
              "      <td>1151.582765</td>\n",
              "      <td>33.934978</td>\n",
              "      <td>0.068396</td>\n",
              "      <td>2.308349</td>\n",
              "      <td>5.579498</td>\n",
              "      <td>167.130118</td>\n",
              "      <td>0.228930</td>\n",
              "      <td>0.052409</td>\n",
              "      <td>0.492269</td>\n",
              "      <td>5.103700</td>\n",
              "      <td>0.952181</td>\n",
              "      <td>7.458341e-155</td>\n",
              "    </tr>\n",
              "    <tr>\n",
              "      <th>3592</th>\n",
              "      <td>0</td>\n",
              "      <td>13.330429</td>\n",
              "      <td>945.732779</td>\n",
              "      <td>30.752769</td>\n",
              "      <td>0.087872</td>\n",
              "      <td>2.732822</td>\n",
              "      <td>7.757570</td>\n",
              "      <td>223.812932</td>\n",
              "      <td>0.261527</td>\n",
              "      <td>0.068397</td>\n",
              "      <td>0.480064</td>\n",
              "      <td>6.439784</td>\n",
              "      <td>0.940898</td>\n",
              "      <td>7.458341e-155</td>\n",
              "    </tr>\n",
              "    <tr>\n",
              "      <th>3593</th>\n",
              "      <td>0</td>\n",
              "      <td>6.110138</td>\n",
              "      <td>480.884025</td>\n",
              "      <td>21.929068</td>\n",
              "      <td>0.118171</td>\n",
              "      <td>4.110669</td>\n",
              "      <td>17.538826</td>\n",
              "      <td>239.251388</td>\n",
              "      <td>0.306224</td>\n",
              "      <td>0.093773</td>\n",
              "      <td>0.494333</td>\n",
              "      <td>6.787329</td>\n",
              "      <td>0.938731</td>\n",
              "      <td>7.458341e-155</td>\n",
              "    </tr>\n",
              "  </tbody>\n",
              "</table>\n",
              "<p>3594 rows × 14 columns</p>\n",
              "</div>"
            ],
            "text/plain": [
              "      Class       Mean     Variance  ...  Dissimilarity  Correlation     Coarseness\n",
              "0         0   6.535339   619.587845  ...       4.473346     0.981939  7.458341e-155\n",
              "1         0   8.749969   805.957634  ...       3.220072     0.988834  7.458341e-155\n",
              "2         1   7.341095  1143.808219  ...       5.981800     0.978014  7.458341e-155\n",
              "3         1   5.958145   959.711985  ...       7.700919     0.964189  7.458341e-155\n",
              "4         0   7.315231   729.540579  ...       6.834689     0.972789  7.458341e-155\n",
              "...     ...        ...          ...  ...            ...          ...            ...\n",
              "3589      0  21.234512  1208.850174  ...       5.211739     0.950972  7.458341e-155\n",
              "3590      0  20.435349  1227.151440  ...       5.083126     0.952749  7.458341e-155\n",
              "3591      0  18.011520  1151.582765  ...       5.103700     0.952181  7.458341e-155\n",
              "3592      0  13.330429   945.732779  ...       6.439784     0.940898  7.458341e-155\n",
              "3593      0   6.110138   480.884025  ...       6.787329     0.938731  7.458341e-155\n",
              "\n",
              "[3594 rows x 14 columns]"
            ]
          },
          "metadata": {},
          "execution_count": 768
        }
      ]
    },
    {
      "cell_type": "code",
      "metadata": {
        "id": "0zYu28VlQzMN"
      },
      "source": [
        "correl = x.corr()"
      ],
      "execution_count": null,
      "outputs": []
    },
    {
      "cell_type": "code",
      "metadata": {
        "colab": {
          "base_uri": "https://localhost:8080/",
          "height": 426
        },
        "id": "ORfdbBCQQxSb",
        "outputId": "5e39af92-0424-42e1-d52a-1e2c1322b867"
      },
      "source": [
        "sns.heatmap(correl)\n",
        "plt.show()"
      ],
      "execution_count": null,
      "outputs": [
        {
          "output_type": "display_data",
          "data": {
            "image/png": "[encoded data removed]",
            "text/plain": [
              "<Figure size 576x396 with 2 Axes>"
            ]
          },
          "metadata": {}
        }
      ]
    },
    {
      "cell_type": "code",
      "metadata": {
        "colab": {
          "base_uri": "https://localhost:8080/",
          "height": 1000
        },
        "id": "JwwnpcEX717T",
        "outputId": "2cd300f5-7ec5-4977-a17b-9a07d6ea0251"
      },
      "source": [
        "x.plot(kind=\"box\",subplots=True,layout=(7,2),figsize=(20,30));"
      ],
      "execution_count": null,
      "outputs": [
        {
          "output_type": "display_data",
          "data": {
            "image/png": "[encoded data removed]",
            "text/plain": [
              "<Figure size 1440x2160 with 14 Axes>"
            ]
          },
          "metadata": {
            "needs_background": "light"
          }
        }
      ]
    },
    {
      "cell_type": "code",
      "metadata": {
        "id": "uaCgiT3esav0"
      },
      "source": [
        "y=x[\"Class\"]\n",
        "x = x.drop([\"Class\"],1)\n",
        "# y = df[\"Class\"]"
      ],
      "execution_count": null,
      "outputs": []
    },
    {
      "cell_type": "code",
      "metadata": {
        "colab": {
          "base_uri": "https://localhost:8080/"
        },
        "id": "BqxtGktgn7wB",
        "outputId": "c121fa2d-08a8-46b8-c894-1c3829693060"
      },
      "source": [
        "x.shape\n",
        "y.shape"
      ],
      "execution_count": null,
      "outputs": [
        {
          "output_type": "execute_result",
          "data": {
            "text/plain": [
              "(3594,)"
            ]
          },
          "metadata": {},
          "execution_count": 771
        }
      ]
    },
    {
      "cell_type": "markdown",
      "metadata": {
        "id": "D8a8UqajpmKq"
      },
      "source": [
        "# **Scaling**"
      ]
    },
    {
      "cell_type": "code",
      "metadata": {
        "colab": {
          "base_uri": "https://localhost:8080/",
          "height": 424
        },
        "id": "bMku6tvPpuQU",
        "outputId": "6dcd0aee-d199-4dfe-d79e-3922576f3d09"
      },
      "source": [
        "scalable=['Mean', 'Variance', 'Standard Deviation', 'Entropy',\n",
        "       'Skewness', 'Kurtosis', 'Contrast', 'Energy', 'ASM', 'Homogeneity',\n",
        "       'Dissimilarity', 'Correlation', 'Coarseness']\n",
        "\n",
        "\n",
        "x[scalable]=StandardScaler().fit_transform(x[scalable])\n",
        "x"
      ],
      "execution_count": null,
      "outputs": [
        {
          "output_type": "execute_result",
          "data": {
            "text/html": [
              "<div>\n",
              "<style scoped>\n",
              "    .dataframe tbody tr th:only-of-type {\n",
              "        vertical-align: middle;\n",
              "    }\n",
              "\n",
              "    .dataframe tbody tr th {\n",
              "        vertical-align: top;\n",
              "    }\n",
              "\n",
              "    .dataframe thead th {\n",
              "        text-align: right;\n",
              "    }\n",
              "</style>\n",
              "<table border=\"1\" class=\"dataframe\">\n",
              "  <thead>\n",
              "    <tr style=\"text-align: right;\">\n",
              "      <th></th>\n",
              "      <th>Mean</th>\n",
              "      <th>Variance</th>\n",
              "      <th>Standard Deviation</th>\n",
              "      <th>Entropy</th>\n",
              "      <th>Skewness</th>\n",
              "      <th>Kurtosis</th>\n",
              "      <th>Contrast</th>\n",
              "      <th>Energy</th>\n",
              "      <th>ASM</th>\n",
              "      <th>Homogeneity</th>\n",
              "      <th>Dissimilarity</th>\n",
              "      <th>Correlation</th>\n",
              "      <th>Coarseness</th>\n",
              "    </tr>\n",
              "  </thead>\n",
              "  <tbody>\n",
              "    <tr>\n",
              "      <th>0</th>\n",
              "      <td>-0.586227</td>\n",
              "      <td>-0.231144</td>\n",
              "      <td>-0.079654</td>\n",
              "      <td>0.481488</td>\n",
              "      <td>0.297687</td>\n",
              "      <td>0.040113</td>\n",
              "      <td>-0.299907</td>\n",
              "      <td>0.657363</td>\n",
              "      <td>0.448196</td>\n",
              "      <td>0.361155</td>\n",
              "      <td>-0.045081</td>\n",
              "      <td>1.280418</td>\n",
              "      <td>-1.035053e-168</td>\n",
              "    </tr>\n",
              "    <tr>\n",
              "      <th>1</th>\n",
              "      <td>-0.178509</td>\n",
              "      <td>0.184614</td>\n",
              "      <td>0.338439</td>\n",
              "      <td>2.740113</td>\n",
              "      <td>-0.037434</td>\n",
              "      <td>-0.134180</td>\n",
              "      <td>-0.809629</td>\n",
              "      <td>2.070424</td>\n",
              "      <td>2.863945</td>\n",
              "      <td>1.332441</td>\n",
              "      <td>-0.855400</td>\n",
              "      <td>1.655349</td>\n",
              "      <td>-1.035053e-168</td>\n",
              "    </tr>\n",
              "    <tr>\n",
              "      <th>2</th>\n",
              "      <td>-0.437886</td>\n",
              "      <td>0.938299</td>\n",
              "      <td>0.987576</td>\n",
              "      <td>-1.061638</td>\n",
              "      <td>0.768997</td>\n",
              "      <td>0.337899</td>\n",
              "      <td>-0.545516</td>\n",
              "      <td>-1.375087</td>\n",
              "      <td>-1.022542</td>\n",
              "      <td>-1.757623</td>\n",
              "      <td>0.930228</td>\n",
              "      <td>1.067008</td>\n",
              "      <td>-1.035053e-168</td>\n",
              "    </tr>\n",
              "    <tr>\n",
              "      <th>3</th>\n",
              "      <td>-0.692490</td>\n",
              "      <td>0.527613</td>\n",
              "      <td>0.647996</td>\n",
              "      <td>-1.061490</td>\n",
              "      <td>1.138848</td>\n",
              "      <td>0.610943</td>\n",
              "      <td>0.471760</td>\n",
              "      <td>-1.374255</td>\n",
              "      <td>-1.022423</td>\n",
              "      <td>-1.954637</td>\n",
              "      <td>2.041744</td>\n",
              "      <td>0.315345</td>\n",
              "      <td>-1.035053e-168</td>\n",
              "    </tr>\n",
              "    <tr>\n",
              "      <th>4</th>\n",
              "      <td>-0.442647</td>\n",
              "      <td>0.014141</td>\n",
              "      <td>0.173564</td>\n",
              "      <td>1.022218</td>\n",
              "      <td>0.301735</td>\n",
              "      <td>0.047128</td>\n",
              "      <td>0.820212</td>\n",
              "      <td>1.050288</td>\n",
              "      <td>1.005232</td>\n",
              "      <td>0.120763</td>\n",
              "      <td>1.481673</td>\n",
              "      <td>0.782917</td>\n",
              "      <td>-1.035053e-168</td>\n",
              "    </tr>\n",
              "    <tr>\n",
              "      <th>...</th>\n",
              "      <td>...</td>\n",
              "      <td>...</td>\n",
              "      <td>...</td>\n",
              "      <td>...</td>\n",
              "      <td>...</td>\n",
              "      <td>...</td>\n",
              "      <td>...</td>\n",
              "      <td>...</td>\n",
              "      <td>...</td>\n",
              "      <td>...</td>\n",
              "      <td>...</td>\n",
              "      <td>...</td>\n",
              "      <td>...</td>\n",
              "    </tr>\n",
              "    <tr>\n",
              "      <th>3589</th>\n",
              "      <td>2.119925</td>\n",
              "      <td>1.083396</td>\n",
              "      <td>1.100923</td>\n",
              "      <td>-0.168007</td>\n",
              "      <td>-1.019361</td>\n",
              "      <td>-0.519911</td>\n",
              "      <td>0.577472</td>\n",
              "      <td>0.092497</td>\n",
              "      <td>-0.197778</td>\n",
              "      <td>0.007762</td>\n",
              "      <td>0.432336</td>\n",
              "      <td>-0.403302</td>\n",
              "      <td>1.345569e-167</td>\n",
              "    </tr>\n",
              "    <tr>\n",
              "      <th>3590</th>\n",
              "      <td>1.972797</td>\n",
              "      <td>1.124223</td>\n",
              "      <td>1.132263</td>\n",
              "      <td>-0.125133</td>\n",
              "      <td>-0.981821</td>\n",
              "      <td>-0.510689</td>\n",
              "      <td>0.617379</td>\n",
              "      <td>0.133435</td>\n",
              "      <td>-0.157100</td>\n",
              "      <td>0.133447</td>\n",
              "      <td>0.349180</td>\n",
              "      <td>-0.306665</td>\n",
              "      <td>1.345569e-167</td>\n",
              "    </tr>\n",
              "    <tr>\n",
              "      <th>3591</th>\n",
              "      <td>1.526565</td>\n",
              "      <td>0.955642</td>\n",
              "      <td>1.001291</td>\n",
              "      <td>-0.101709</td>\n",
              "      <td>-0.883556</td>\n",
              "      <td>-0.483285</td>\n",
              "      <td>0.704957</td>\n",
              "      <td>0.156751</td>\n",
              "      <td>-0.133503</td>\n",
              "      <td>0.049209</td>\n",
              "      <td>0.362482</td>\n",
              "      <td>-0.337549</td>\n",
              "      <td>1.345569e-167</td>\n",
              "    </tr>\n",
              "    <tr>\n",
              "      <th>3592</th>\n",
              "      <td>0.664765</td>\n",
              "      <td>0.496427</td>\n",
              "      <td>0.620928</td>\n",
              "      <td>0.177610</td>\n",
              "      <td>-0.628794</td>\n",
              "      <td>-0.397706</td>\n",
              "      <td>1.536272</td>\n",
              "      <td>0.410209</td>\n",
              "      <td>0.143083</td>\n",
              "      <td>-0.049244</td>\n",
              "      <td>1.226343</td>\n",
              "      <td>-0.951033</td>\n",
              "      <td>1.345569e-167</td>\n",
              "    </tr>\n",
              "    <tr>\n",
              "      <th>3593</th>\n",
              "      <td>-0.664508</td>\n",
              "      <td>-0.540568</td>\n",
              "      <td>-0.433749</td>\n",
              "      <td>0.612176</td>\n",
              "      <td>0.198172</td>\n",
              "      <td>-0.013391</td>\n",
              "      <td>1.762694</td>\n",
              "      <td>0.757739</td>\n",
              "      <td>0.582092</td>\n",
              "      <td>0.065856</td>\n",
              "      <td>1.451052</td>\n",
              "      <td>-1.068874</td>\n",
              "      <td>1.355505e-167</td>\n",
              "    </tr>\n",
              "  </tbody>\n",
              "</table>\n",
              "<p>3594 rows × 13 columns</p>\n",
              "</div>"
            ],
            "text/plain": [
              "          Mean  Variance  ...  Correlation     Coarseness\n",
              "0    -0.586227 -0.231144  ...     1.280418 -1.035053e-168\n",
              "1    -0.178509  0.184614  ...     1.655349 -1.035053e-168\n",
              "2    -0.437886  0.938299  ...     1.067008 -1.035053e-168\n",
              "3    -0.692490  0.527613  ...     0.315345 -1.035053e-168\n",
              "4    -0.442647  0.014141  ...     0.782917 -1.035053e-168\n",
              "...        ...       ...  ...          ...            ...\n",
              "3589  2.119925  1.083396  ...    -0.403302  1.345569e-167\n",
              "3590  1.972797  1.124223  ...    -0.306665  1.345569e-167\n",
              "3591  1.526565  0.955642  ...    -0.337549  1.345569e-167\n",
              "3592  0.664765  0.496427  ...    -0.951033  1.345569e-167\n",
              "3593 -0.664508 -0.540568  ...    -1.068874  1.355505e-167\n",
              "\n",
              "[3594 rows x 13 columns]"
            ]
          },
          "metadata": {},
          "execution_count": 772
        }
      ]
    },
    {
      "cell_type": "code",
      "metadata": {
        "colab": {
          "base_uri": "https://localhost:8080/"
        },
        "id": "sVTIQbgVOWrn",
        "outputId": "fd04d1f4-e449-4a7b-98ce-7cd21e26df95"
      },
      "source": [
        "y.head()"
      ],
      "execution_count": null,
      "outputs": [
        {
          "output_type": "execute_result",
          "data": {
            "text/plain": [
              "0    0\n",
              "1    0\n",
              "2    1\n",
              "3    1\n",
              "4    0\n",
              "Name: Class, dtype: int64"
            ]
          },
          "metadata": {},
          "execution_count": 773
        }
      ]
    },
    {
      "cell_type": "markdown",
      "metadata": {
        "id": "Fb6j-t61pOJA"
      },
      "source": [
        "**Import Machine Learning Library.** "
      ]
    },
    {
      "cell_type": "code",
      "metadata": {
        "id": "MRw-HwzeSY_O"
      },
      "source": [
        "from sklearn.model_selection import train_test_split\n"
      ],
      "execution_count": null,
      "outputs": []
    },
    {
      "cell_type": "code",
      "metadata": {
        "id": "cZXPPz84SveE"
      },
      "source": [
        "xtrain,xtest,ytrain,ytest = train_test_split(x,y, test_size=.30,random_state=42)"
      ],
      "execution_count": null,
      "outputs": []
    },
    {
      "cell_type": "code",
      "metadata": {
        "colab": {
          "base_uri": "https://localhost:8080/",
          "height": 424
        },
        "id": "sf3MdL5uTLq9",
        "outputId": "543918d2-dd37-4f70-b082-5628119c7529"
      },
      "source": [
        "xtest"
      ],
      "execution_count": null,
      "outputs": [
        {
          "output_type": "execute_result",
          "data": {
            "text/html": [
              "<div>\n",
              "<style scoped>\n",
              "    .dataframe tbody tr th:only-of-type {\n",
              "        vertical-align: middle;\n",
              "    }\n",
              "\n",
              "    .dataframe tbody tr th {\n",
              "        vertical-align: top;\n",
              "    }\n",
              "\n",
              "    .dataframe thead th {\n",
              "        text-align: right;\n",
              "    }\n",
              "</style>\n",
              "<table border=\"1\" class=\"dataframe\">\n",
              "  <thead>\n",
              "    <tr style=\"text-align: right;\">\n",
              "      <th></th>\n",
              "      <th>Mean</th>\n",
              "      <th>Variance</th>\n",
              "      <th>Standard Deviation</th>\n",
              "      <th>Entropy</th>\n",
              "      <th>Skewness</th>\n",
              "      <th>Kurtosis</th>\n",
              "      <th>Contrast</th>\n",
              "      <th>Energy</th>\n",
              "      <th>ASM</th>\n",
              "      <th>Homogeneity</th>\n",
              "      <th>Dissimilarity</th>\n",
              "      <th>Correlation</th>\n",
              "      <th>Coarseness</th>\n",
              "    </tr>\n",
              "  </thead>\n",
              "  <tbody>\n",
              "    <tr>\n",
              "      <th>2834</th>\n",
              "      <td>0.693101</td>\n",
              "      <td>2.927563</td>\n",
              "      <td>2.337831</td>\n",
              "      <td>-1.066662</td>\n",
              "      <td>0.029419</td>\n",
              "      <td>-0.102990</td>\n",
              "      <td>-0.652734</td>\n",
              "      <td>-1.406859</td>\n",
              "      <td>-1.026765</td>\n",
              "      <td>-1.447519</td>\n",
              "      <td>0.333299</td>\n",
              "      <td>1.005905</td>\n",
              "      <td>-1.035053e-168</td>\n",
              "    </tr>\n",
              "    <tr>\n",
              "      <th>315</th>\n",
              "      <td>-1.083491</td>\n",
              "      <td>-1.191865</td>\n",
              "      <td>-1.411950</td>\n",
              "      <td>0.577407</td>\n",
              "      <td>0.262380</td>\n",
              "      <td>0.022974</td>\n",
              "      <td>-1.239936</td>\n",
              "      <td>0.727946</td>\n",
              "      <td>0.541748</td>\n",
              "      <td>1.051405</td>\n",
              "      <td>-1.345529</td>\n",
              "      <td>1.079187</td>\n",
              "      <td>-1.035053e-168</td>\n",
              "    </tr>\n",
              "    <tr>\n",
              "      <th>3538</th>\n",
              "      <td>1.126585</td>\n",
              "      <td>1.904944</td>\n",
              "      <td>1.691924</td>\n",
              "      <td>-1.058314</td>\n",
              "      <td>-0.281924</td>\n",
              "      <td>-0.239775</td>\n",
              "      <td>0.509855</td>\n",
              "      <td>-1.355517</td>\n",
              "      <td>-1.019653</td>\n",
              "      <td>-1.613225</td>\n",
              "      <td>1.650422</td>\n",
              "      <td>0.690312</td>\n",
              "      <td>1.196521e-167</td>\n",
              "    </tr>\n",
              "    <tr>\n",
              "      <th>3541</th>\n",
              "      <td>1.297274</td>\n",
              "      <td>2.330944</td>\n",
              "      <td>1.971092</td>\n",
              "      <td>-1.045464</td>\n",
              "      <td>-0.355654</td>\n",
              "      <td>-0.272784</td>\n",
              "      <td>0.232694</td>\n",
              "      <td>-1.291612</td>\n",
              "      <td>-1.008692</td>\n",
              "      <td>-1.673154</td>\n",
              "      <td>1.440552</td>\n",
              "      <td>0.507622</td>\n",
              "      <td>1.204801e-167</td>\n",
              "    </tr>\n",
              "    <tr>\n",
              "      <th>439</th>\n",
              "      <td>-1.277269</td>\n",
              "      <td>-0.587662</td>\n",
              "      <td>-0.491929</td>\n",
              "      <td>-1.048124</td>\n",
              "      <td>2.635011</td>\n",
              "      <td>2.007848</td>\n",
              "      <td>-0.280728</td>\n",
              "      <td>-1.305140</td>\n",
              "      <td>-1.011207</td>\n",
              "      <td>-1.742093</td>\n",
              "      <td>1.256040</td>\n",
              "      <td>0.137147</td>\n",
              "      <td>-1.035053e-168</td>\n",
              "    </tr>\n",
              "    <tr>\n",
              "      <th>...</th>\n",
              "      <td>...</td>\n",
              "      <td>...</td>\n",
              "      <td>...</td>\n",
              "      <td>...</td>\n",
              "      <td>...</td>\n",
              "      <td>...</td>\n",
              "      <td>...</td>\n",
              "      <td>...</td>\n",
              "      <td>...</td>\n",
              "      <td>...</td>\n",
              "      <td>...</td>\n",
              "      <td>...</td>\n",
              "      <td>...</td>\n",
              "    </tr>\n",
              "    <tr>\n",
              "      <th>365</th>\n",
              "      <td>-0.502702</td>\n",
              "      <td>0.324976</td>\n",
              "      <td>0.468405</td>\n",
              "      <td>-0.233919</td>\n",
              "      <td>0.483029</td>\n",
              "      <td>0.146092</td>\n",
              "      <td>2.933093</td>\n",
              "      <td>0.028380</td>\n",
              "      <td>-0.259561</td>\n",
              "      <td>-0.225117</td>\n",
              "      <td>0.599680</td>\n",
              "      <td>-0.211358</td>\n",
              "      <td>-1.035053e-168</td>\n",
              "    </tr>\n",
              "    <tr>\n",
              "      <th>1566</th>\n",
              "      <td>-1.241244</td>\n",
              "      <td>-0.643367</td>\n",
              "      <td>-0.562498</td>\n",
              "      <td>-1.050329</td>\n",
              "      <td>2.287231</td>\n",
              "      <td>1.649383</td>\n",
              "      <td>0.285618</td>\n",
              "      <td>-1.315523</td>\n",
              "      <td>-1.013067</td>\n",
              "      <td>-1.627672</td>\n",
              "      <td>1.663871</td>\n",
              "      <td>0.137609</td>\n",
              "      <td>-1.035053e-168</td>\n",
              "    </tr>\n",
              "    <tr>\n",
              "      <th>276</th>\n",
              "      <td>-0.845458</td>\n",
              "      <td>-0.896661</td>\n",
              "      <td>-0.912499</td>\n",
              "      <td>2.632097</td>\n",
              "      <td>0.078522</td>\n",
              "      <td>-0.080286</td>\n",
              "      <td>-0.867563</td>\n",
              "      <td>2.011841</td>\n",
              "      <td>2.741085</td>\n",
              "      <td>1.499813</td>\n",
              "      <td>-1.291666</td>\n",
              "      <td>1.007701</td>\n",
              "      <td>-1.035053e-168</td>\n",
              "    </tr>\n",
              "    <tr>\n",
              "      <th>2383</th>\n",
              "      <td>-0.973012</td>\n",
              "      <td>-0.631505</td>\n",
              "      <td>-0.547305</td>\n",
              "      <td>1.465491</td>\n",
              "      <td>0.799628</td>\n",
              "      <td>0.350442</td>\n",
              "      <td>3.436504</td>\n",
              "      <td>1.339057</td>\n",
              "      <td>1.470941</td>\n",
              "      <td>0.797871</td>\n",
              "      <td>1.268277</td>\n",
              "      <td>-1.108531</td>\n",
              "      <td>-1.035053e-168</td>\n",
              "    </tr>\n",
              "    <tr>\n",
              "      <th>1978</th>\n",
              "      <td>0.945848</td>\n",
              "      <td>0.169441</td>\n",
              "      <td>0.324091</td>\n",
              "      <td>-0.235918</td>\n",
              "      <td>-0.874924</td>\n",
              "      <td>-0.482390</td>\n",
              "      <td>-0.878106</td>\n",
              "      <td>0.017880</td>\n",
              "      <td>-0.269455</td>\n",
              "      <td>0.714018</td>\n",
              "      <td>-0.932414</td>\n",
              "      <td>0.915994</td>\n",
              "      <td>-1.035053e-168</td>\n",
              "    </tr>\n",
              "  </tbody>\n",
              "</table>\n",
              "<p>1079 rows × 13 columns</p>\n",
              "</div>"
            ],
            "text/plain": [
              "          Mean  Variance  ...  Correlation     Coarseness\n",
              "2834  0.693101  2.927563  ...     1.005905 -1.035053e-168\n",
              "315  -1.083491 -1.191865  ...     1.079187 -1.035053e-168\n",
              "3538  1.126585  1.904944  ...     0.690312  1.196521e-167\n",
              "3541  1.297274  2.330944  ...     0.507622  1.204801e-167\n",
              "439  -1.277269 -0.587662  ...     0.137147 -1.035053e-168\n",
              "...        ...       ...  ...          ...            ...\n",
              "365  -0.502702  0.324976  ...    -0.211358 -1.035053e-168\n",
              "1566 -1.241244 -0.643367  ...     0.137609 -1.035053e-168\n",
              "276  -0.845458 -0.896661  ...     1.007701 -1.035053e-168\n",
              "2383 -0.973012 -0.631505  ...    -1.108531 -1.035053e-168\n",
              "1978  0.945848  0.169441  ...     0.915994 -1.035053e-168\n",
              "\n",
              "[1079 rows x 13 columns]"
            ]
          },
          "metadata": {},
          "execution_count": 776
        }
      ]
    },
    {
      "cell_type": "markdown",
      "metadata": {
        "id": "EvIHxHhZNPVl"
      },
      "source": [
        "**LogisticRegression**"
      ]
    },
    {
      "cell_type": "code",
      "metadata": {
        "id": "H9J3q_oaTXm-"
      },
      "source": [
        "from sklearn.linear_model import LogisticRegression"
      ],
      "execution_count": null,
      "outputs": []
    },
    {
      "cell_type": "code",
      "metadata": {
        "id": "nr5F9QiQTf_N"
      },
      "source": [
        "model = LogisticRegression()"
      ],
      "execution_count": null,
      "outputs": []
    },
    {
      "cell_type": "code",
      "metadata": {
        "colab": {
          "base_uri": "https://localhost:8080/"
        },
        "id": "dAIHBj01To3d",
        "outputId": "fd282fba-8bb0-409e-f44e-ec7387e9a4f3"
      },
      "source": [
        "model.fit(xtrain,ytrain)"
      ],
      "execution_count": null,
      "outputs": [
        {
          "output_type": "execute_result",
          "data": {
            "text/plain": [
              "LogisticRegression()"
            ]
          },
          "metadata": {},
          "execution_count": 779
        }
      ]
    },
    {
      "cell_type": "code",
      "metadata": {
        "colab": {
          "base_uri": "https://localhost:8080/"
        },
        "id": "5kevgdI9T1EO",
        "outputId": "8469eb96-cf59-4609-8c79-d935834bef21"
      },
      "source": [
        "pred1 = model.predict(xtest)\n",
        "pred1"
      ],
      "execution_count": null,
      "outputs": [
        {
          "output_type": "execute_result",
          "data": {
            "text/plain": [
              "array([1, 0, 1, ..., 0, 0, 0])"
            ]
          },
          "metadata": {},
          "execution_count": 780
        }
      ]
    },
    {
      "cell_type": "code",
      "metadata": {
        "colab": {
          "base_uri": "https://localhost:8080/"
        },
        "id": "eBaHdjQbqyOw",
        "outputId": "b188cc3c-4d69-4043-a86d-99939d4e3e2c"
      },
      "source": [
        "model.score(xtest,ytest)"
      ],
      "execution_count": null,
      "outputs": [
        {
          "output_type": "execute_result",
          "data": {
            "text/plain": [
              "0.989805375347544"
            ]
          },
          "metadata": {},
          "execution_count": 781
        }
      ]
    },
    {
      "cell_type": "markdown",
      "metadata": {
        "id": "EkK1RjhxZ4-T"
      },
      "source": [
        "# Naive Bayes Algorithm"
      ]
    },
    {
      "cell_type": "code",
      "metadata": {
        "id": "A26U_orJPHfK"
      },
      "source": [
        "from sklearn.naive_bayes import GaussianNB"
      ],
      "execution_count": null,
      "outputs": []
    },
    {
      "cell_type": "code",
      "metadata": {
        "id": "j4pY0DHAPHgY"
      },
      "source": [
        "nb = GaussianNB()"
      ],
      "execution_count": null,
      "outputs": []
    },
    {
      "cell_type": "code",
      "metadata": {
        "colab": {
          "base_uri": "https://localhost:8080/"
        },
        "id": "VFz2rBj5al_1",
        "outputId": "41f90756-8c71-42f0-8ce5-d5ff0019eafa"
      },
      "source": [
        "nb.fit(xtrain,ytrain)"
      ],
      "execution_count": null,
      "outputs": [
        {
          "output_type": "execute_result",
          "data": {
            "text/plain": [
              "GaussianNB()"
            ]
          },
          "metadata": {},
          "execution_count": 784
        }
      ]
    },
    {
      "cell_type": "code",
      "metadata": {
        "colab": {
          "base_uri": "https://localhost:8080/"
        },
        "id": "jDNuoTTrkHUj",
        "outputId": "16da4836-63b7-44f6-f882-ee26f61d8b20"
      },
      "source": [
        "pred2 = nb.predict(xtest)\n",
        "pred2"
      ],
      "execution_count": null,
      "outputs": [
        {
          "output_type": "execute_result",
          "data": {
            "text/plain": [
              "array([1, 0, 1, ..., 0, 0, 0])"
            ]
          },
          "metadata": {},
          "execution_count": 785
        }
      ]
    },
    {
      "cell_type": "code",
      "metadata": {
        "colab": {
          "base_uri": "https://localhost:8080/"
        },
        "id": "hSkbSqTElHxr",
        "outputId": "ec2371d3-77df-47fd-ff90-75661fbf16d0"
      },
      "source": [
        "nb.score(xtest,ytest)"
      ],
      "execution_count": null,
      "outputs": [
        {
          "output_type": "execute_result",
          "data": {
            "text/plain": [
              "0.9759036144578314"
            ]
          },
          "metadata": {},
          "execution_count": 786
        }
      ]
    },
    {
      "cell_type": "markdown",
      "metadata": {
        "id": "M7qZ7JhTnKIJ"
      },
      "source": [
        "**K Nearest Neighbors Algorithm**"
      ]
    },
    {
      "cell_type": "code",
      "metadata": {
        "id": "CGnSsSTVlZgL"
      },
      "source": [
        "from sklearn.neighbors import KNeighborsClassifier"
      ],
      "execution_count": null,
      "outputs": []
    },
    {
      "cell_type": "code",
      "metadata": {
        "id": "Mcr1Ii4hn4fr"
      },
      "source": [
        "knn = KNeighborsClassifier()"
      ],
      "execution_count": null,
      "outputs": []
    },
    {
      "cell_type": "code",
      "metadata": {
        "colab": {
          "base_uri": "https://localhost:8080/"
        },
        "id": "WGY1kNJln92K",
        "outputId": "67be0774-ae11-4ee6-a77d-02032f33d59c"
      },
      "source": [
        "knn.fit(xtrain,ytrain)"
      ],
      "execution_count": null,
      "outputs": [
        {
          "output_type": "execute_result",
          "data": {
            "text/plain": [
              "KNeighborsClassifier()"
            ]
          },
          "metadata": {},
          "execution_count": 789
        }
      ]
    },
    {
      "cell_type": "code",
      "metadata": {
        "colab": {
          "base_uri": "https://localhost:8080/"
        },
        "id": "TZIswYvjoIdq",
        "outputId": "912edb88-6968-4063-b321-454be7cc6ee3"
      },
      "source": [
        "pred3 = knn.predict(xtest)\n",
        "pred3"
      ],
      "execution_count": null,
      "outputs": [
        {
          "output_type": "execute_result",
          "data": {
            "text/plain": [
              "array([1, 0, 1, ..., 0, 0, 0])"
            ]
          },
          "metadata": {},
          "execution_count": 790
        }
      ]
    },
    {
      "cell_type": "code",
      "metadata": {
        "colab": {
          "base_uri": "https://localhost:8080/"
        },
        "id": "F-yR__vioTDC",
        "outputId": "6507298d-7cdf-44d8-b021-e38194ec245b"
      },
      "source": [
        "knn.score(xtest,ytest)"
      ],
      "execution_count": null,
      "outputs": [
        {
          "output_type": "execute_result",
          "data": {
            "text/plain": [
              "0.9860982391102873"
            ]
          },
          "metadata": {},
          "execution_count": 791
        }
      ]
    },
    {
      "cell_type": "markdown",
      "metadata": {
        "id": "7tFSPXq4r9F_"
      },
      "source": [
        "**Random Forest Algorithm**"
      ]
    },
    {
      "cell_type": "code",
      "metadata": {
        "id": "x5Y08duGr8Xi"
      },
      "source": [
        "from sklearn.ensemble import RandomForestClassifier"
      ],
      "execution_count": null,
      "outputs": []
    },
    {
      "cell_type": "code",
      "metadata": {
        "id": "cCiQeMBuveWf"
      },
      "source": [
        "from sklearn import metrics"
      ],
      "execution_count": null,
      "outputs": []
    },
    {
      "cell_type": "code",
      "metadata": {
        "id": "a2SIw1D6siFG"
      },
      "source": [
        "rf = RandomForestClassifier(n_estimators=100)"
      ],
      "execution_count": null,
      "outputs": []
    },
    {
      "cell_type": "code",
      "metadata": {
        "colab": {
          "base_uri": "https://localhost:8080/"
        },
        "id": "LPkSodHMtxaR",
        "outputId": "74cf344e-88a4-4698-92ae-b1cecadac939"
      },
      "source": [
        "rf.fit(xtrain,ytrain)"
      ],
      "execution_count": null,
      "outputs": [
        {
          "output_type": "execute_result",
          "data": {
            "text/plain": [
              "RandomForestClassifier()"
            ]
          },
          "metadata": {},
          "execution_count": 795
        }
      ]
    },
    {
      "cell_type": "code",
      "metadata": {
        "colab": {
          "base_uri": "https://localhost:8080/"
        },
        "id": "1EZOP-Kkt8Dx",
        "outputId": "0a57581a-b362-417a-d336-b7b98d31da2c"
      },
      "source": [
        "pred4 = rf.predict(xtest)\n",
        "pred4"
      ],
      "execution_count": null,
      "outputs": [
        {
          "output_type": "execute_result",
          "data": {
            "text/plain": [
              "array([1, 0, 1, ..., 0, 0, 0])"
            ]
          },
          "metadata": {},
          "execution_count": 796
        }
      ]
    },
    {
      "cell_type": "code",
      "metadata": {
        "colab": {
          "base_uri": "https://localhost:8080/"
        },
        "id": "SaOSPFP2uMix",
        "outputId": "c0b0d3f4-0b3f-404a-901a-75b746fac9f6"
      },
      "source": [
        "rf.score(xtest,ytest)"
      ],
      "execution_count": null,
      "outputs": [
        {
          "output_type": "execute_result",
          "data": {
            "text/plain": [
              "0.9870250231696015"
            ]
          },
          "metadata": {},
          "execution_count": 797
        }
      ]
    },
    {
      "cell_type": "code",
      "metadata": {
        "colab": {
          "base_uri": "https://localhost:8080/"
        },
        "id": "_iAAY7_CvHBL",
        "outputId": "871e9b54-bfd1-4ea7-a885-6f72a720be2a"
      },
      "source": [
        "print(\"Accuracy:\",metrics.accuracy_score(ytest, pred4))"
      ],
      "execution_count": null,
      "outputs": [
        {
          "output_type": "stream",
          "name": "stdout",
          "text": [
            "Accuracy: 0.9870250231696015\n"
          ]
        }
      ]
    },
    {
      "cell_type": "code",
      "metadata": {
        "colab": {
          "base_uri": "https://localhost:8080/"
        },
        "id": "p0wi6c01MzVM",
        "outputId": "cf1be097-c1e2-48a6-dca7-cec309ed9793"
      },
      "source": [
        "cnf_matrix = metrics.confusion_matrix(ytest, pred4)\n",
        "cnf_matrix"
      ],
      "execution_count": null,
      "outputs": [
        {
          "output_type": "execute_result",
          "data": {
            "text/plain": [
              "array([[592,   1],\n",
              "       [ 13, 473]])"
            ]
          },
          "metadata": {},
          "execution_count": 799
        }
      ]
    },
    {
      "cell_type": "code",
      "metadata": {
        "colab": {
          "base_uri": "https://localhost:8080/",
          "height": 341
        },
        "id": "U4ZofLMIDaQr",
        "outputId": "b2321109-fda8-4a9f-f2d1-ef6263e12e39"
      },
      "source": [
        "cnf_matrix = metrics.confusion_matrix(ytest, pred4)\n",
        "cnf_matrix\n",
        "class_names=[0,1] # name  of classes\n",
        "fig, ax = plt.subplots()\n",
        "tick_marks = np.arange(len(class_names))\n",
        "plt.xticks(tick_marks, class_names)\n",
        "plt.yticks(tick_marks, class_names)\n",
        "# create heatmap\n",
        "sns.heatmap(pd.DataFrame(cnf_matrix), annot=True, cmap=\"YlGnBu\" ,fmt='g')\n",
        "ax.xaxis.set_label_position(\"top\")\n",
        "plt.tight_layout()\n",
        "plt.title('Confusion matrix', y=1.1)\n",
        "plt.ylabel('Actual label')\n",
        "plt.xlabel('Predicted label')"
      ],
      "execution_count": null,
      "outputs": [
        {
          "output_type": "execute_result",
          "data": {
            "text/plain": [
              "Text(0.5, 257.44, 'Predicted label')"
            ]
          },
          "metadata": {},
          "execution_count": 800
        },
        {
          "output_type": "display_data",
          "data": {
            "image/png": "[encoded data removed]",
            "text/plain": [
              "<Figure size 432x288 with 2 Axes>"
            ]
          },
          "metadata": {
            "needs_background": "light"
          }
        }
      ]
    },
    {
      "cell_type": "code",
      "metadata": {
        "id": "UlfCaBsAHdim"
      },
      "source": [
        "spec = 474 / (474+2)"
      ],
      "execution_count": null,
      "outputs": []
    },
    {
      "cell_type": "code",
      "metadata": {
        "colab": {
          "base_uri": "https://localhost:8080/"
        },
        "id": "Bc6V7X2qHxI-",
        "outputId": "b69f4ebe-83ed-412a-bc85-99ba537ed545"
      },
      "source": [
        "spec"
      ],
      "execution_count": null,
      "outputs": [
        {
          "output_type": "execute_result",
          "data": {
            "text/plain": [
              "0.9957983193277311"
            ]
          },
          "metadata": {},
          "execution_count": 802
        }
      ]
    },
    {
      "cell_type": "code",
      "metadata": {
        "id": "7SCQ57KzIoSi"
      },
      "source": [
        "sen = 591 /(591+12)"
      ],
      "execution_count": null,
      "outputs": []
    },
    {
      "cell_type": "code",
      "metadata": {
        "colab": {
          "base_uri": "https://localhost:8080/"
        },
        "id": "iqiWbNAXN93A",
        "outputId": "3a3a989a-f573-412f-81fb-e3812be99f8b"
      },
      "source": [
        "sen"
      ],
      "execution_count": null,
      "outputs": [
        {
          "output_type": "execute_result",
          "data": {
            "text/plain": [
              "0.9800995024875622"
            ]
          },
          "metadata": {},
          "execution_count": 804
        }
      ]
    },
    {
      "cell_type": "code",
      "metadata": {
        "id": "2rZb6Ut1IB2L"
      },
      "source": [
        "NPV=474/(474+12)"
      ],
      "execution_count": null,
      "outputs": []
    },
    {
      "cell_type": "code",
      "metadata": {
        "colab": {
          "base_uri": "https://localhost:8080/"
        },
        "id": "epUvQVzhILGR",
        "outputId": "7b2c8b07-a662-467b-a2c3-ec05e5c2b6aa"
      },
      "source": [
        "NPV"
      ],
      "execution_count": null,
      "outputs": [
        {
          "output_type": "execute_result",
          "data": {
            "text/plain": [
              "0.9753086419753086"
            ]
          },
          "metadata": {},
          "execution_count": 806
        }
      ]
    },
    {
      "cell_type": "code",
      "metadata": {
        "id": "Dy8U-FNt5nLi"
      },
      "source": [
        "FPR=2/(2+475)"
      ],
      "execution_count": null,
      "outputs": []
    },
    {
      "cell_type": "code",
      "metadata": {
        "colab": {
          "base_uri": "https://localhost:8080/"
        },
        "id": "dh5Qc4wZ5tBh",
        "outputId": "41d7281a-d98e-4691-8282-06bed1f06b31"
      },
      "source": [
        "FPR"
      ],
      "execution_count": null,
      "outputs": [
        {
          "output_type": "execute_result",
          "data": {
            "text/plain": [
              "0.0041928721174004195"
            ]
          },
          "metadata": {},
          "execution_count": 808
        }
      ]
    },
    {
      "cell_type": "code",
      "metadata": {
        "id": "wb7y6hhzIh9Z"
      },
      "source": [
        "FNR=12/(12+591)"
      ],
      "execution_count": null,
      "outputs": []
    },
    {
      "cell_type": "code",
      "metadata": {
        "colab": {
          "base_uri": "https://localhost:8080/"
        },
        "id": "HR5gjZ51OwgV",
        "outputId": "39122a2c-8731-4aec-fba4-ccb03ab331b0"
      },
      "source": [
        "FNR"
      ],
      "execution_count": null,
      "outputs": [
        {
          "output_type": "execute_result",
          "data": {
            "text/plain": [
              "0.01990049751243781"
            ]
          },
          "metadata": {},
          "execution_count": 810
        }
      ]
    },
    {
      "cell_type": "code",
      "metadata": {
        "id": "DLAUwCsyJDj_"
      },
      "source": [
        "import math\n",
        "MCC = ((591*474) - (2*12)) / math.sqrt((591+2)*(591+12)*(474+2)*(474+12))"
      ],
      "execution_count": null,
      "outputs": []
    },
    {
      "cell_type": "code",
      "metadata": {
        "colab": {
          "base_uri": "https://localhost:8080/"
        },
        "id": "5-FuWxz6JNMy",
        "outputId": "6192757b-fee4-412c-b76b-a7ce991a4046"
      },
      "source": [
        "MCC"
      ],
      "execution_count": null,
      "outputs": [
        {
          "output_type": "execute_result",
          "data": {
            "text/plain": [
              "0.9739148766627023"
            ]
          },
          "metadata": {},
          "execution_count": 812
        }
      ]
    },
    {
      "cell_type": "code",
      "metadata": {
        "colab": {
          "base_uri": "https://localhost:8080/"
        },
        "id": "Ek3X9A9H1Tzs",
        "outputId": "ecd88e58-f6e2-46a4-ea5a-21ae375465bd"
      },
      "source": [
        "print(\"F1:\",metrics.f1_score(ytest, pred4))\n",
        "print(\"Accuracy:\",metrics.accuracy_score(ytest, pred4))\n",
        "print(\"Precision:\",metrics.precision_score(ytest, pred4))\n",
        "print(\"Recall:\",metrics.recall_score(ytest, pred4))"
      ],
      "execution_count": null,
      "outputs": [
        {
          "output_type": "stream",
          "name": "stdout",
          "text": [
            "F1: 0.9854166666666667\n",
            "Accuracy: 0.9870250231696015\n",
            "Precision: 0.9978902953586498\n",
            "Recall: 0.9732510288065843\n"
          ]
        }
      ]
    },
    {
      "cell_type": "markdown",
      "metadata": {
        "id": "h0xj1EqlwalS"
      },
      "source": [
        "**Support Vector Machine Algorithm**"
      ]
    },
    {
      "cell_type": "code",
      "metadata": {
        "id": "rFAgpMXAwk5B"
      },
      "source": [
        "from sklearn.svm import SVC"
      ],
      "execution_count": null,
      "outputs": []
    },
    {
      "cell_type": "code",
      "metadata": {
        "id": "UAyRE0JWw1iQ"
      },
      "source": [
        "sv = SVC(probability=True)"
      ],
      "execution_count": null,
      "outputs": []
    },
    {
      "cell_type": "code",
      "metadata": {
        "colab": {
          "base_uri": "https://localhost:8080/"
        },
        "id": "ZHmP2-3uxeTh",
        "outputId": "d4553bb9-0c50-4777-e2ae-d2b80876e642"
      },
      "source": [
        "sv.fit(xtrain,ytrain)"
      ],
      "execution_count": null,
      "outputs": [
        {
          "output_type": "execute_result",
          "data": {
            "text/plain": [
              "SVC(probability=True)"
            ]
          },
          "metadata": {},
          "execution_count": 816
        }
      ]
    },
    {
      "cell_type": "code",
      "metadata": {
        "colab": {
          "base_uri": "https://localhost:8080/"
        },
        "id": "-0z5iaClxxCx",
        "outputId": "8b8cb369-4ee1-46df-ad98-3199e83762a0"
      },
      "source": [
        "pred5 = sv.predict(xtest)\n",
        "pred5"
      ],
      "execution_count": null,
      "outputs": [
        {
          "output_type": "execute_result",
          "data": {
            "text/plain": [
              "array([1, 0, 1, ..., 0, 0, 0])"
            ]
          },
          "metadata": {},
          "execution_count": 817
        }
      ]
    },
    {
      "cell_type": "code",
      "metadata": {
        "colab": {
          "base_uri": "https://localhost:8080/"
        },
        "id": "4eIXQKnZyKLa",
        "outputId": "240fb0a7-481e-495b-971c-65da9e2798a4"
      },
      "source": [
        "sv.score(xtest,ytest)"
      ],
      "execution_count": null,
      "outputs": [
        {
          "output_type": "execute_result",
          "data": {
            "text/plain": [
              "0.9870250231696015"
            ]
          },
          "metadata": {},
          "execution_count": 818
        }
      ]
    },
    {
      "cell_type": "code",
      "metadata": {
        "colab": {
          "base_uri": "https://localhost:8080/"
        },
        "id": "1LuAdCCJ1LcC",
        "outputId": "6a6d9239-0111-4263-cddc-f0853982efc6"
      },
      "source": [
        "print(\"F1:\",metrics.f1_score(ytest, pred5))\n",
        "print(\"Accuracy:\",metrics.accuracy_score(ytest, pred5))\n",
        "print(\"Precision:\",metrics.precision_score(ytest, pred5))\n",
        "print(\"Recall:\",metrics.recall_score(ytest, pred5))"
      ],
      "execution_count": null,
      "outputs": [
        {
          "output_type": "stream",
          "name": "stdout",
          "text": [
            "F1: 0.9855072463768116\n",
            "Accuracy: 0.9870250231696015\n",
            "Precision: 0.9916666666666667\n",
            "Recall: 0.9794238683127572\n"
          ]
        }
      ]
    },
    {
      "cell_type": "markdown",
      "metadata": {
        "id": "0qdERTdN3pvH"
      },
      "source": [
        "**Decision Tree Algorithm**"
      ]
    },
    {
      "cell_type": "code",
      "metadata": {
        "id": "nxbgP-Wz3ozY"
      },
      "source": [
        "from sklearn.tree import DecisionTreeClassifier\n",
        "from sklearn import metrics"
      ],
      "execution_count": null,
      "outputs": []
    },
    {
      "cell_type": "code",
      "metadata": {
        "id": "j8zsCPgq5UAo"
      },
      "source": [
        "dtc = DecisionTreeClassifier()"
      ],
      "execution_count": null,
      "outputs": []
    },
    {
      "cell_type": "code",
      "metadata": {
        "colab": {
          "base_uri": "https://localhost:8080/"
        },
        "id": "x4_B-gXs5cX3",
        "outputId": "0f5a5d7e-390b-4ec1-e6d0-1ea3800133ee"
      },
      "source": [
        "dtc.fit(xtrain,ytrain)"
      ],
      "execution_count": null,
      "outputs": [
        {
          "output_type": "execute_result",
          "data": {
            "text/plain": [
              "DecisionTreeClassifier()"
            ]
          },
          "metadata": {},
          "execution_count": 822
        }
      ]
    },
    {
      "cell_type": "code",
      "metadata": {
        "colab": {
          "base_uri": "https://localhost:8080/"
        },
        "id": "QOWgI4Ss5tjY",
        "outputId": "c413fde1-7162-4638-cddd-907c378d5b50"
      },
      "source": [
        "pred6 = dtc.predict(xtest)\n",
        "pred6"
      ],
      "execution_count": null,
      "outputs": [
        {
          "output_type": "execute_result",
          "data": {
            "text/plain": [
              "array([1, 0, 1, ..., 0, 0, 0])"
            ]
          },
          "metadata": {},
          "execution_count": 823
        }
      ]
    },
    {
      "cell_type": "code",
      "metadata": {
        "colab": {
          "base_uri": "https://localhost:8080/"
        },
        "id": "ztghb5-M53sV",
        "outputId": "ca9fc1ef-23a5-4104-a03f-8374a6e1316b"
      },
      "source": [
        "dtc.score(xtest,ytest)"
      ],
      "execution_count": null,
      "outputs": [
        {
          "output_type": "execute_result",
          "data": {
            "text/plain": [
              "0.9823911028730306"
            ]
          },
          "metadata": {},
          "execution_count": 824
        }
      ]
    },
    {
      "cell_type": "markdown",
      "metadata": {
        "id": "wvDamA6WIjST"
      },
      "source": [
        "**Gradient Boosting Algorithm**"
      ]
    },
    {
      "cell_type": "code",
      "metadata": {
        "id": "yg9itkpAIYzW"
      },
      "source": [
        "from sklearn.ensemble import GradientBoostingRegressor"
      ],
      "execution_count": null,
      "outputs": []
    },
    {
      "cell_type": "code",
      "metadata": {
        "id": "LmtZ7xnlImPU"
      },
      "source": [
        "gb = GradientBoostingRegressor(n_estimators=100)"
      ],
      "execution_count": null,
      "outputs": []
    },
    {
      "cell_type": "code",
      "metadata": {
        "colab": {
          "base_uri": "https://localhost:8080/"
        },
        "id": "gP3tJM92JBBW",
        "outputId": "e86d8bea-5e8c-4d66-be74-b13a40b144c9"
      },
      "source": [
        "gb.fit(xtrain,ytrain)"
      ],
      "execution_count": null,
      "outputs": [
        {
          "output_type": "execute_result",
          "data": {
            "text/plain": [
              "GradientBoostingRegressor()"
            ]
          },
          "metadata": {},
          "execution_count": 827
        }
      ]
    },
    {
      "cell_type": "code",
      "metadata": {
        "id": "v22S9tDvJQpl"
      },
      "source": [
        "pred7 = gb.predict(xtest)"
      ],
      "execution_count": null,
      "outputs": []
    },
    {
      "cell_type": "code",
      "metadata": {
        "colab": {
          "base_uri": "https://localhost:8080/"
        },
        "id": "6g4LPfRxJYi9",
        "outputId": "63e21a2b-98d9-439e-9c25-dbbe4fffdacb"
      },
      "source": [
        "gb.score(xtest,ytest)"
      ],
      "execution_count": null,
      "outputs": [
        {
          "output_type": "execute_result",
          "data": {
            "text/plain": [
              "0.9501345167351444"
            ]
          },
          "metadata": {},
          "execution_count": 829
        }
      ]
    },
    {
      "cell_type": "markdown",
      "metadata": {
        "id": "Bkyk1D1tLNu6"
      },
      "source": [
        "**AdaBoosting Algorithm**"
      ]
    },
    {
      "cell_type": "code",
      "metadata": {
        "id": "1lT4jNDVLNBd"
      },
      "source": [
        "from sklearn.ensemble import AdaBoostClassifier"
      ],
      "execution_count": null,
      "outputs": []
    },
    {
      "cell_type": "code",
      "metadata": {
        "id": "gZyp8PiBLY5q"
      },
      "source": [
        "ab = AdaBoostClassifier(n_estimators=50)"
      ],
      "execution_count": null,
      "outputs": []
    },
    {
      "cell_type": "code",
      "metadata": {
        "colab": {
          "base_uri": "https://localhost:8080/"
        },
        "id": "_NHTpFccLga0",
        "outputId": "8525c49f-a152-44e9-d8c7-04197d71c955"
      },
      "source": [
        "ab.fit(xtrain,ytrain)"
      ],
      "execution_count": null,
      "outputs": [
        {
          "output_type": "execute_result",
          "data": {
            "text/plain": [
              "AdaBoostClassifier()"
            ]
          },
          "metadata": {},
          "execution_count": 832
        }
      ]
    },
    {
      "cell_type": "code",
      "metadata": {
        "id": "U7HSezmNLnyl"
      },
      "source": [
        "pred8 = ab.predict(xtest)"
      ],
      "execution_count": null,
      "outputs": []
    },
    {
      "cell_type": "code",
      "metadata": {
        "colab": {
          "base_uri": "https://localhost:8080/"
        },
        "id": "prwMdIg8L0dM",
        "outputId": "6d1e11b2-8dda-4c8a-9e4c-68167664b529"
      },
      "source": [
        "ab.score(xtest,ytest)"
      ],
      "execution_count": null,
      "outputs": [
        {
          "output_type": "execute_result",
          "data": {
            "text/plain": [
              "0.989805375347544"
            ]
          },
          "metadata": {},
          "execution_count": 834
        }
      ]
    },
    {
      "cell_type": "code",
      "metadata": {
        "colab": {
          "base_uri": "https://localhost:8080/",
          "height": 341
        },
        "id": "QagJVCnMDqKO",
        "outputId": "22372008-4a51-4598-de56-8ad3904ad9fc"
      },
      "source": [
        "cnf_matrix = metrics.confusion_matrix(ytest, pred8)\n",
        "cnf_matrix\n",
        "class_names=[0,1] # name  of classes\n",
        "fig, ax = plt.subplots()\n",
        "tick_marks = np.arange(len(class_names))\n",
        "plt.xticks(tick_marks, class_names)\n",
        "plt.yticks(tick_marks, class_names)\n",
        "# create heatmap\n",
        "sns.heatmap(pd.DataFrame(cnf_matrix), annot=True, cmap=\"YlGnBu\" ,fmt='g')\n",
        "ax.xaxis.set_label_position(\"top\")\n",
        "plt.tight_layout()\n",
        "plt.title('Confusion matrix', y=1.1)\n",
        "plt.ylabel('Actual label')\n",
        "plt.xlabel('Predicted label')"
      ],
      "execution_count": null,
      "outputs": [
        {
          "output_type": "execute_result",
          "data": {
            "text/plain": [
              "Text(0.5, 257.44, 'Predicted label')"
            ]
          },
          "metadata": {},
          "execution_count": 835
        },
        {
          "output_type": "display_data",
          "data": {
            "image/png": "[encoded data removed]",
            "text/plain": [
              "<Figure size 432x288 with 2 Axes>"
            ]
          },
          "metadata": {
            "needs_background": "light"
          }
        }
      ]
    },
    {
      "cell_type": "code",
      "metadata": {
        "id": "K7pRpKCfTolG"
      },
      "source": [
        "spec = 478 / (478+3)"
      ],
      "execution_count": null,
      "outputs": []
    },
    {
      "cell_type": "code",
      "metadata": {
        "colab": {
          "base_uri": "https://localhost:8080/"
        },
        "id": "BcmhHL6bTtdF",
        "outputId": "8655fcca-17b6-4d6a-e1c1-d09b699a6c2e"
      },
      "source": [
        "spec"
      ],
      "execution_count": null,
      "outputs": [
        {
          "output_type": "execute_result",
          "data": {
            "text/plain": [
              "0.9937629937629938"
            ]
          },
          "metadata": {},
          "execution_count": 837
        }
      ]
    },
    {
      "cell_type": "code",
      "metadata": {
        "id": "BdyXcaUiTvTu"
      },
      "source": [
        "sen = 590 /(590+8)"
      ],
      "execution_count": null,
      "outputs": []
    },
    {
      "cell_type": "code",
      "metadata": {
        "colab": {
          "base_uri": "https://localhost:8080/"
        },
        "id": "EbjCaYhLT4yu",
        "outputId": "0f4a3335-891e-4310-d461-f585fd5fa0d8"
      },
      "source": [
        "sen"
      ],
      "execution_count": null,
      "outputs": [
        {
          "output_type": "execute_result",
          "data": {
            "text/plain": [
              "0.9866220735785953"
            ]
          },
          "metadata": {},
          "execution_count": 839
        }
      ]
    },
    {
      "cell_type": "code",
      "metadata": {
        "id": "HFV46qcgT78n"
      },
      "source": [
        "NPV=478/(478+8)"
      ],
      "execution_count": null,
      "outputs": []
    },
    {
      "cell_type": "code",
      "metadata": {
        "colab": {
          "base_uri": "https://localhost:8080/"
        },
        "id": "m_tRQXW9UGMf",
        "outputId": "a26d8a95-99b2-4ac7-88be-8574e87807f9"
      },
      "source": [
        "NPV"
      ],
      "execution_count": null,
      "outputs": [
        {
          "output_type": "execute_result",
          "data": {
            "text/plain": [
              "0.9835390946502057"
            ]
          },
          "metadata": {},
          "execution_count": 841
        }
      ]
    },
    {
      "cell_type": "code",
      "metadata": {
        "id": "P9PRvl4Q5aDH"
      },
      "source": [
        "FPR=3/(3+478)"
      ],
      "execution_count": null,
      "outputs": []
    },
    {
      "cell_type": "code",
      "metadata": {
        "colab": {
          "base_uri": "https://localhost:8080/"
        },
        "id": "APasBCPX5azI",
        "outputId": "64d04d1a-bbf1-4daa-ebec-a5293fa4aaaa"
      },
      "source": [
        "FPR "
      ],
      "execution_count": null,
      "outputs": [
        {
          "output_type": "execute_result",
          "data": {
            "text/plain": [
              "0.006237006237006237"
            ]
          },
          "metadata": {},
          "execution_count": 843
        }
      ]
    },
    {
      "cell_type": "code",
      "metadata": {
        "id": "5PQRXDlBUH2p"
      },
      "source": [
        "FNR=8/(8+590)"
      ],
      "execution_count": null,
      "outputs": []
    },
    {
      "cell_type": "code",
      "metadata": {
        "colab": {
          "base_uri": "https://localhost:8080/"
        },
        "id": "jswU2-C9URdR",
        "outputId": "b7dc1ae0-1b1a-4852-9dac-a0af93f0425b"
      },
      "source": [
        "FNR"
      ],
      "execution_count": null,
      "outputs": [
        {
          "output_type": "execute_result",
          "data": {
            "text/plain": [
              "0.013377926421404682"
            ]
          },
          "metadata": {},
          "execution_count": 845
        }
      ]
    },
    {
      "cell_type": "code",
      "metadata": {
        "id": "NscbUCqFUXss"
      },
      "source": [
        "import math\n",
        "MCC = ((590*478) - (3*8)) / math.sqrt((590+3)*(590+8)*(478+3)*(478+8))"
      ],
      "execution_count": null,
      "outputs": []
    },
    {
      "cell_type": "code",
      "metadata": {
        "colab": {
          "base_uri": "https://localhost:8080/"
        },
        "id": "XDWnap3XUlG6",
        "outputId": "61a71f22-910e-464a-981f-e9e5d72adb1e"
      },
      "source": [
        "MCC"
      ],
      "execution_count": null,
      "outputs": [
        {
          "output_type": "execute_result",
          "data": {
            "text/plain": [
              "0.97943210688318"
            ]
          },
          "metadata": {},
          "execution_count": 847
        }
      ]
    },
    {
      "cell_type": "code",
      "metadata": {
        "colab": {
          "base_uri": "https://localhost:8080/"
        },
        "id": "A4ogj8161CQd",
        "outputId": "724d7dd4-1d33-4fb3-f868-76019756cb96"
      },
      "source": [
        "print(\"F1:\",metrics.f1_score(ytest, pred8))\n",
        "print(\"Accuracy:\",metrics.accuracy_score(ytest, pred8))\n",
        "print(\"Precision:\",metrics.precision_score(ytest, pred8))\n",
        "print(\"Recall:\",metrics.recall_score(ytest, pred8))"
      ],
      "execution_count": null,
      "outputs": [
        {
          "output_type": "stream",
          "name": "stdout",
          "text": [
            "F1: 0.9886246122026887\n",
            "Accuracy: 0.989805375347544\n",
            "Precision: 0.9937629937629938\n",
            "Recall: 0.9835390946502057\n"
          ]
        }
      ]
    },
    {
      "cell_type": "markdown",
      "metadata": {
        "id": "PwhoHXVEuT0m"
      },
      "source": [
        "#XGBoost"
      ]
    },
    {
      "cell_type": "code",
      "metadata": {
        "id": "feWYaDQHuSE_"
      },
      "source": [
        "from xgboost import XGBClassifier"
      ],
      "execution_count": null,
      "outputs": []
    },
    {
      "cell_type": "code",
      "metadata": {
        "id": "F6qv8XGWuhw4"
      },
      "source": [
        "xg = XGBClassifier()"
      ],
      "execution_count": null,
      "outputs": []
    },
    {
      "cell_type": "code",
      "metadata": {
        "colab": {
          "base_uri": "https://localhost:8080/"
        },
        "id": "qD_90ZqXulm5",
        "outputId": "e845d7bb-cb47-43cb-bb3d-2225f178b301"
      },
      "source": [
        "xg.fit(xtrain,ytrain)"
      ],
      "execution_count": null,
      "outputs": [
        {
          "output_type": "execute_result",
          "data": {
            "text/plain": [
              "XGBClassifier()"
            ]
          },
          "metadata": {},
          "execution_count": 851
        }
      ]
    },
    {
      "cell_type": "code",
      "metadata": {
        "id": "WYxA-m_s0Aao"
      },
      "source": [
        "pred9 = xg.predict(xtest)"
      ],
      "execution_count": null,
      "outputs": []
    },
    {
      "cell_type": "code",
      "metadata": {
        "colab": {
          "base_uri": "https://localhost:8080/"
        },
        "id": "uzoDN6bVuut_",
        "outputId": "d58a006b-1e49-447e-84fa-3d3d46759c91"
      },
      "source": [
        "xg.score(xtest,ytest)"
      ],
      "execution_count": null,
      "outputs": [
        {
          "output_type": "execute_result",
          "data": {
            "text/plain": [
              "0.9925857275254866"
            ]
          },
          "metadata": {},
          "execution_count": 853
        }
      ]
    },
    {
      "cell_type": "code",
      "metadata": {
        "colab": {
          "base_uri": "https://localhost:8080/",
          "height": 341
        },
        "id": "fH-sKSepEwks",
        "outputId": "cad24b2b-e18c-4ca6-990a-3c1bb582b9a7"
      },
      "source": [
        "cnf_matrix = metrics.confusion_matrix(ytest, pred9)\n",
        "cnf_matrix\n",
        "class_names=[0,1] # name  of classes\n",
        "fig, ax = plt.subplots()\n",
        "tick_marks = np.arange(len(class_names))\n",
        "plt.xticks(tick_marks, class_names)\n",
        "plt.yticks(tick_marks, class_names)\n",
        "# create heatmap\n",
        "sns.heatmap(pd.DataFrame(cnf_matrix), annot=True, cmap=\"YlGnBu\" ,fmt='g')\n",
        "ax.xaxis.set_label_position(\"top\")\n",
        "plt.tight_layout()\n",
        "plt.title('Confusion matrix', y=1.1)\n",
        "plt.ylabel('Actual label')\n",
        "plt.xlabel('Predicted label')"
      ],
      "execution_count": null,
      "outputs": [
        {
          "output_type": "execute_result",
          "data": {
            "text/plain": [
              "Text(0.5, 257.44, 'Predicted label')"
            ]
          },
          "metadata": {},
          "execution_count": 854
        },
        {
          "output_type": "display_data",
          "data": {
            "image/png": "[encoded data removed]",
            "text/plain": [
              "<Figure size 432x288 with 2 Axes>"
            ]
          },
          "metadata": {
            "needs_background": "light"
          }
        }
      ]
    },
    {
      "cell_type": "code",
      "metadata": {
        "id": "rL6YW9DWUsbV"
      },
      "source": [
        "spec = 478 / (478+0)"
      ],
      "execution_count": null,
      "outputs": []
    },
    {
      "cell_type": "code",
      "metadata": {
        "colab": {
          "base_uri": "https://localhost:8080/"
        },
        "id": "Zelco8PxUwgO",
        "outputId": "4b91816e-2b3c-4804-baea-449441bf732c"
      },
      "source": [
        "spec"
      ],
      "execution_count": null,
      "outputs": [
        {
          "output_type": "execute_result",
          "data": {
            "text/plain": [
              "1.0"
            ]
          },
          "metadata": {},
          "execution_count": 856
        }
      ]
    },
    {
      "cell_type": "code",
      "metadata": {
        "id": "n0cgPA_eU4rx"
      },
      "source": [
        "sen = 593 /(593+8)"
      ],
      "execution_count": null,
      "outputs": []
    },
    {
      "cell_type": "code",
      "metadata": {
        "colab": {
          "base_uri": "https://localhost:8080/"
        },
        "id": "B0vSdb7IU8ax",
        "outputId": "8b087ba8-44e8-4db7-f7c2-1ff38e750e9e"
      },
      "source": [
        "sen"
      ],
      "execution_count": null,
      "outputs": [
        {
          "output_type": "execute_result",
          "data": {
            "text/plain": [
              "0.9866888519134775"
            ]
          },
          "metadata": {},
          "execution_count": 858
        }
      ]
    },
    {
      "cell_type": "code",
      "metadata": {
        "id": "6VPVpL_oVFdH"
      },
      "source": [
        "NPV=478/(478+8)"
      ],
      "execution_count": null,
      "outputs": []
    },
    {
      "cell_type": "code",
      "metadata": {
        "colab": {
          "base_uri": "https://localhost:8080/"
        },
        "id": "ibK901fuVIlC",
        "outputId": "0724e33d-7ae1-4f05-c78c-96d11bfb4bb4"
      },
      "source": [
        "NPV"
      ],
      "execution_count": null,
      "outputs": [
        {
          "output_type": "execute_result",
          "data": {
            "text/plain": [
              "0.9835390946502057"
            ]
          },
          "metadata": {},
          "execution_count": 860
        }
      ]
    },
    {
      "cell_type": "code",
      "metadata": {
        "id": "eMJt7QXx432k"
      },
      "source": [
        "FPR=0/(0+478)"
      ],
      "execution_count": null,
      "outputs": []
    },
    {
      "cell_type": "code",
      "metadata": {
        "colab": {
          "base_uri": "https://localhost:8080/"
        },
        "id": "D40UbsGn5P6_",
        "outputId": "a9b91511-7cd9-41b3-8089-9d1c4b2abc11"
      },
      "source": [
        "FPR"
      ],
      "execution_count": null,
      "outputs": [
        {
          "output_type": "execute_result",
          "data": {
            "text/plain": [
              "0.0"
            ]
          },
          "metadata": {},
          "execution_count": 862
        }
      ]
    },
    {
      "cell_type": "code",
      "metadata": {
        "id": "Mb1XrdOBVLmb"
      },
      "source": [
        "FNR=8/(8+593)"
      ],
      "execution_count": null,
      "outputs": []
    },
    {
      "cell_type": "code",
      "metadata": {
        "colab": {
          "base_uri": "https://localhost:8080/"
        },
        "id": "vimybERbVSGO",
        "outputId": "2e512d63-669a-4b78-ccb8-c9883deae6be"
      },
      "source": [
        "FNR"
      ],
      "execution_count": null,
      "outputs": [
        {
          "output_type": "execute_result",
          "data": {
            "text/plain": [
              "0.013311148086522463"
            ]
          },
          "metadata": {},
          "execution_count": 864
        }
      ]
    },
    {
      "cell_type": "code",
      "metadata": {
        "id": "HNakf1toVVcC"
      },
      "source": [
        "import math\n",
        "MCC = ((593*478) - (0*8)) / math.sqrt((593+0)*(593+8)*(478+0)*(478+8))"
      ],
      "execution_count": null,
      "outputs": []
    },
    {
      "cell_type": "code",
      "metadata": {
        "colab": {
          "base_uri": "https://localhost:8080/"
        },
        "id": "uiUTIZw7Vkwo",
        "outputId": "69281330-adc1-4a57-8962-050bc2824197"
      },
      "source": [
        "MCC"
      ],
      "execution_count": null,
      "outputs": [
        {
          "output_type": "execute_result",
          "data": {
            "text/plain": [
              "0.98511271442025"
            ]
          },
          "metadata": {},
          "execution_count": 866
        }
      ]
    },
    {
      "cell_type": "code",
      "metadata": {
        "colab": {
          "base_uri": "https://localhost:8080/"
        },
        "id": "FMCa_M2k021u",
        "outputId": "6371fc49-f046-42a7-8659-4ab40f210a2b"
      },
      "source": [
        "print(\"F1:\",metrics.f1_score(ytest, pred9))\n",
        "print(\"Accuracy:\",metrics.accuracy_score(ytest, pred9))\n",
        "print(\"Precision:\",metrics.precision_score(ytest, pred9))\n",
        "print(\"Recall:\",metrics.recall_score(ytest, pred9))"
      ],
      "execution_count": null,
      "outputs": [
        {
          "output_type": "stream",
          "name": "stdout",
          "text": [
            "F1: 0.9917012448132779\n",
            "Accuracy: 0.9925857275254866\n",
            "Precision: 1.0\n",
            "Recall: 0.9835390946502057\n"
          ]
        }
      ]
    },
    {
      "cell_type": "markdown",
      "metadata": {
        "id": "yNX8w4F8lMNP"
      },
      "source": [
        "#Roc Curve\n"
      ]
    },
    {
      "cell_type": "code",
      "metadata": {
        "id": "ba-AwQSKizTw"
      },
      "source": [
        "pred_prob1 = rf.predict_proba(xtest)\n",
        "pred_prob2 = ab.predict_proba(xtest)\n",
        "pred_prob3 = xg.predict_proba(xtest)"
      ],
      "execution_count": null,
      "outputs": []
    },
    {
      "cell_type": "code",
      "metadata": {
        "id": "R0s2gOq1jHfS"
      },
      "source": [
        "from sklearn.metrics import roc_curve\n",
        "\n",
        "# roc curve for models\n",
        "fpr1, tpr1, thresh1 = roc_curve(ytest, pred_prob1[:,1], pos_label=1)\n",
        "fpr2, tpr2, thresh2 = roc_curve(ytest, pred_prob2[:,1], pos_label=1)\n",
        "fpr3, tpr3, thresh3 = roc_curve(ytest, pred_prob3[:,1], pos_label=1)\n",
        "\n",
        "# roc curve for tpr = fpr \n",
        "random_probs = [0 for i in range(len(ytest))]\n",
        "p_fpr, p_tpr, _ = roc_curve(ytest, random_probs, pos_label=1)"
      ],
      "execution_count": null,
      "outputs": []
    },
    {
      "cell_type": "code",
      "metadata": {
        "colab": {
          "base_uri": "https://localhost:8080/"
        },
        "id": "eoeRLrSijZTs",
        "outputId": "d1517885-c1d1-45b6-faf7-cc6c2b543b16"
      },
      "source": [
        "from sklearn.metrics import roc_auc_score\n",
        "\n",
        "# auc scores\n",
        "auc_score1 = roc_auc_score(ytest, pred_prob1[:,1])\n",
        "auc_score2 = roc_auc_score(ytest, pred_prob2[:,1])\n",
        "auc_score3 = roc_auc_score(ytest, pred_prob3[:,1])\n",
        "\n",
        "print(auc_score1, auc_score2,auc_score3)"
      ],
      "execution_count": null,
      "outputs": [
        {
          "output_type": "stream",
          "name": "stdout",
          "text": [
            "0.9972796480197642 0.9986016558060777 0.998230383278163\n"
          ]
        }
      ]
    },
    {
      "cell_type": "code",
      "metadata": {
        "colab": {
          "base_uri": "https://localhost:8080/",
          "height": 376
        },
        "id": "vQrCYqnhjtfB",
        "outputId": "9d146dd0-b094-4709-f6ef-fd852a331cc6"
      },
      "source": [
        "import matplotlib.pyplot as plt\n",
        "plt.style.use('seaborn')\n",
        "\n",
        "# plot roc curves\n",
        "plt.plot(fpr1, tpr1, linestyle='--',color='orange', label='Random Forest')\n",
        "plt.plot(fpr2, tpr2, linestyle='--',color='green', label='Adabost')\n",
        "plt.plot(fpr3, tpr3, linestyle='--',color='purple', label='XGBoost')\n",
        "plt.plot(p_fpr, p_tpr, linestyle='--', color='blue')\n",
        "# title\n",
        "plt.title('ROC-AUC curve')\n",
        "# x label\n",
        "plt.xlabel('False Positive Rate')\n",
        "# y label\n",
        "plt.ylabel('True Positive rate')\n",
        "\n",
        "plt.legend(loc='best')\n",
        "plt.savefig('ROC',dpi=300)\n",
        "plt.show();"
      ],
      "execution_count": null,
      "outputs": [
        {
          "output_type": "display_data",
          "data": {
            "image/png": "[encoded data removed]",
            "text/plain": [
              "<Figure size 576x396 with 1 Axes>"
            ]
          },
          "metadata": {}
        }
      ]
    },
    {
      "cell_type": "markdown",
      "metadata": {
        "id": "okHxi3PqlSLg"
      },
      "source": [
        "#Prec Curve"
      ]
    },
    {
      "cell_type": "code",
      "metadata": {
        "id": "NOQNr2mmlRFJ"
      },
      "source": [
        "pred_prob1 = rf.predict_proba(xtest)\n",
        "pred_prob2 = ab.predict_proba(xtest)\n",
        "pred_prob3 = xg.predict_proba(xtest)"
      ],
      "execution_count": null,
      "outputs": []
    },
    {
      "cell_type": "code",
      "metadata": {
        "id": "N1bkCONdlhS7"
      },
      "source": [
        "from sklearn.metrics import precision_recall_curve\n",
        "\n",
        "# roc curve for models\n",
        "fpr1, tpr1, thresh1 = precision_recall_curve(ytest, pred_prob1[:,1], pos_label=1)\n",
        "fpr2, tpr2, thresh2 = precision_recall_curve(ytest, pred_prob2[:,1], pos_label=1)\n",
        "fpr3, tpr3, thresh3 = precision_recall_curve(ytest, pred_prob3[:,1], pos_label=1)\n",
        "\n",
        "# roc curve for tpr = fpr \n",
        "random_probs = [0 for i in range(len(ytest))]\n",
        "p_fpr, p_tpr, _ = roc_curve(ytest, random_probs, pos_label=1)"
      ],
      "execution_count": null,
      "outputs": []
    },
    {
      "cell_type": "code",
      "metadata": {
        "colab": {
          "base_uri": "https://localhost:8080/",
          "height": 376
        },
        "id": "C0byzGDHl3Hj",
        "outputId": "3ecdefbb-ea00-4688-a3d6-62beee85069b"
      },
      "source": [
        "# from sklearn.metrics import precision_recall_curve_score\n",
        "\n",
        "# # auc scores\n",
        "# auc_score1 = precision_recall_curve_score(ytest, pred_prob1[:,1])\n",
        "# auc_score2 = precision_recall_curve_score(ytest, pred_prob2[:,1])\n",
        "# auc_score3 = precision_recall_curve_score(ytest, pred_prob3[:,1])\n",
        "\n",
        "# print(auc_score1, auc_score2,auc_score3)\n",
        "\n",
        "import matplotlib.pyplot as plt\n",
        "plt.style.use('seaborn')\n",
        "\n",
        "# plot roc curves\n",
        "plt.plot(fpr1, tpr1, linestyle='--',color='orange', label='Random Forest')\n",
        "plt.plot(fpr2, tpr2, linestyle='--',color='green', label='Adabost')\n",
        "plt.plot(fpr3, tpr3, linestyle='--',color='purple', label='XGBoost')\n",
        "plt.plot(p_fpr, p_tpr, linestyle='--', color='blue')\n",
        "# title\n",
        "plt.title('PRE-AUC curve')\n",
        "# x label\n",
        "plt.xlabel('False Positive Rate')\n",
        "# y label\n",
        "plt.ylabel('True Positive rate')\n",
        "\n",
        "plt.legend(loc='best')\n",
        "plt.savefig('ROC',dpi=300)\n",
        "plt.show();"
      ],
      "execution_count": null,
      "outputs": [
        {
          "output_type": "display_data",
          "data": {
            "image/png": "[encoded data removed]",
            "text/plain": [
              "<Figure size 576x396 with 1 Axes>"
            ]
          },
          "metadata": {}
        }
      ]
    },
    {
      "cell_type": "markdown",
      "metadata": {
        "id": "lbFifOLdvbms"
      },
      "source": [
        "# **LGBM**"
      ]
    },
    {
      "cell_type": "code",
      "metadata": {
        "id": "HrQWtI6wvhj4"
      },
      "source": [
        "from lightgbm import LGBMClassifier\n"
      ],
      "execution_count": null,
      "outputs": []
    },
    {
      "cell_type": "code",
      "metadata": {
        "id": "1WQjWnRXv8-w"
      },
      "source": [
        "lgb = LGBMClassifier()"
      ],
      "execution_count": null,
      "outputs": []
    },
    {
      "cell_type": "code",
      "metadata": {
        "colab": {
          "base_uri": "https://localhost:8080/"
        },
        "id": "V0LB3_uvwCJA",
        "outputId": "f4d1aeef-40ef-462c-fef8-0870651c7782"
      },
      "source": [
        "lgb.fit(xtrain,ytrain)"
      ],
      "execution_count": null,
      "outputs": [
        {
          "output_type": "execute_result",
          "data": {
            "text/plain": [
              "LGBMClassifier()"
            ]
          },
          "metadata": {},
          "execution_count": 877
        }
      ]
    },
    {
      "cell_type": "code",
      "metadata": {
        "id": "M3_zdjfZ0h94"
      },
      "source": [
        "pred10 = lgb.predict(xtest)"
      ],
      "execution_count": null,
      "outputs": []
    },
    {
      "cell_type": "code",
      "metadata": {
        "colab": {
          "base_uri": "https://localhost:8080/"
        },
        "id": "-iEkr_rQwMY0",
        "outputId": "98fefff6-ca1e-4df3-8cdb-a28144ac73bd"
      },
      "source": [
        "lgb.score(xtest,ytest)"
      ],
      "execution_count": null,
      "outputs": [
        {
          "output_type": "execute_result",
          "data": {
            "text/plain": [
              "0.989805375347544"
            ]
          },
          "metadata": {},
          "execution_count": 879
        }
      ]
    },
    {
      "cell_type": "code",
      "metadata": {
        "colab": {
          "base_uri": "https://localhost:8080/"
        },
        "id": "HYUc7KrHzbUf",
        "outputId": "df84295f-922a-4a62-c273-229f2d7f2d2f"
      },
      "source": [
        "print(\"F1:\",metrics.f1_score(ytest, pred10))\n",
        "print(\"Accuracy:\",metrics.accuracy_score(ytest, pred10))\n",
        "print(\"Precision:\",metrics.precision_score(ytest, pred10))\n",
        "print(\"Recall:\",metrics.recall_score(ytest, pred10))"
      ],
      "execution_count": null,
      "outputs": [
        {
          "output_type": "stream",
          "name": "stdout",
          "text": [
            "F1: 0.9885773624091381\n",
            "Accuracy: 0.989805375347544\n",
            "Precision: 0.9979035639412998\n",
            "Recall: 0.9794238683127572\n"
          ]
        }
      ]
    },
    {
      "cell_type": "code",
      "metadata": {
        "colab": {
          "base_uri": "https://localhost:8080/",
          "height": 206
        },
        "id": "Pqdk7LjvyQYL",
        "outputId": "1aa9c930-ba93-4756-e349-74f03cfcfad7"
      },
      "source": [
        "report = [[\"RF\", 0.987, 0.997, 0.975, 0.986], [\"SVM\", 0.987, 0.991, 0.979, 0.985], \n",
        "          [\"ADB\", 0.989, 0.993, 0.983, 0.9898],[\"LGBM\", 0.989, 0.997, 0.979, 0.988],\n",
        "          [\"XGB\", 0.992, 1.000, 0.983, 0.992]]\n",
        "overall_result = pd.DataFrame(report, columns=[\"Model\", \"Accuracy Score\", \"Precision\", \"Recall\", \"F1-score\"])\n",
        "overall_result.sort_values(\"Accuracy Score\", ascending=False)"
      ],
      "execution_count": null,
      "outputs": [
        {
          "output_type": "execute_result",
          "data": {
            "text/html": [
              "<div>\n",
              "<style scoped>\n",
              "    .dataframe tbody tr th:only-of-type {\n",
              "        vertical-align: middle;\n",
              "    }\n",
              "\n",
              "    .dataframe tbody tr th {\n",
              "        vertical-align: top;\n",
              "    }\n",
              "\n",
              "    .dataframe thead th {\n",
              "        text-align: right;\n",
              "    }\n",
              "</style>\n",
              "<table border=\"1\" class=\"dataframe\">\n",
              "  <thead>\n",
              "    <tr style=\"text-align: right;\">\n",
              "      <th></th>\n",
              "      <th>Model</th>\n",
              "      <th>Accuracy Score</th>\n",
              "      <th>Precision</th>\n",
              "      <th>Recall</th>\n",
              "      <th>F1-score</th>\n",
              "    </tr>\n",
              "  </thead>\n",
              "  <tbody>\n",
              "    <tr>\n",
              "      <th>4</th>\n",
              "      <td>XGB</td>\n",
              "      <td>0.992</td>\n",
              "      <td>1.000</td>\n",
              "      <td>0.983</td>\n",
              "      <td>0.9920</td>\n",
              "    </tr>\n",
              "    <tr>\n",
              "      <th>2</th>\n",
              "      <td>ADB</td>\n",
              "      <td>0.989</td>\n",
              "      <td>0.993</td>\n",
              "      <td>0.983</td>\n",
              "      <td>0.9898</td>\n",
              "    </tr>\n",
              "    <tr>\n",
              "      <th>3</th>\n",
              "      <td>LGBM</td>\n",
              "      <td>0.989</td>\n",
              "      <td>0.997</td>\n",
              "      <td>0.979</td>\n",
              "      <td>0.9880</td>\n",
              "    </tr>\n",
              "    <tr>\n",
              "      <th>0</th>\n",
              "      <td>RF</td>\n",
              "      <td>0.987</td>\n",
              "      <td>0.997</td>\n",
              "      <td>0.975</td>\n",
              "      <td>0.9860</td>\n",
              "    </tr>\n",
              "    <tr>\n",
              "      <th>1</th>\n",
              "      <td>SVM</td>\n",
              "      <td>0.987</td>\n",
              "      <td>0.991</td>\n",
              "      <td>0.979</td>\n",
              "      <td>0.9850</td>\n",
              "    </tr>\n",
              "  </tbody>\n",
              "</table>\n",
              "</div>"
            ],
            "text/plain": [
              "  Model  Accuracy Score  Precision  Recall  F1-score\n",
              "4   XGB           0.992      1.000   0.983    0.9920\n",
              "2   ADB           0.989      0.993   0.983    0.9898\n",
              "3  LGBM           0.989      0.997   0.979    0.9880\n",
              "0    RF           0.987      0.997   0.975    0.9860\n",
              "1   SVM           0.987      0.991   0.979    0.9850"
            ]
          },
          "metadata": {},
          "execution_count": 881
        }
      ]
    },
    {
      "cell_type": "markdown",
      "metadata": {
        "id": "xaMQB_RYdtn0"
      },
      "source": [
        "# Graphical interface"
      ]
    },
    {
      "cell_type": "code",
      "metadata": {
        "colab": {
          "base_uri": "https://localhost:8080/",
          "height": 347
        },
        "id": "UwlrlP15iNGX",
        "outputId": "7a3951ba-4b98-4af0-eee8-82ca6275cd65"
      },
      "source": [
        "# fig = plt.figure(figsize=(6,6))\n",
        "# ax = fig.add_axes([0,0,1,1])\n",
        "# langs = ['RF', 'ADB', 'XGB']\n",
        "# students = [0.987,0.989,0.992]\n",
        "# ax.bar(langs,students)\n",
        "# plt.show()\n",
        "\n",
        "import numpy as np\n",
        "import matplotlib.pyplot as plt\n",
        " \n",
        "# create a dataset\n",
        "height = [0.987,0.989,0.992]\n",
        "bars = ('RF','ADB','XGB')\n",
        "x_pos = np.arange(len(bars))\n",
        "\n",
        "# Create bars with different colors\n",
        "plt.bar(x_pos, height, color=['black', 'green', 'blue'])\n",
        "\n",
        "# Create names on the x-axis\n",
        "plt.xticks(x_pos, bars)\n",
        "\n",
        "# Show graph  \n",
        "plt.show()\n"
      ],
      "execution_count": null,
      "outputs": [
        {
          "output_type": "display_data",
          "data": {
            "image/png": "[encoded data removed]",
            "text/plain": [
              "<Figure size 576x396 with 1 Axes>"
            ]
          },
          "metadata": {}
        }
      ]
    },
    {
      "cell_type": "code",
      "metadata": {
        "colab": {
          "base_uri": "https://localhost:8080/",
          "height": 374
        },
        "id": "aKBp1UQApZn7",
        "outputId": "1374f4c4-cacb-4cfc-c9d1-e961586acc92"
      },
      "source": [
        "import numpy as np\n",
        "import matplotlib.pyplot as plt\n",
        "\n",
        "# set width of bar\n",
        "barWidth = 0.1\n",
        "fig = plt.subplots(figsize =(8, 6))\n",
        "\n",
        "# set height of bar\n",
        "IT = [591, 590, 593]\n",
        "ECE = [2,3, 0]\n",
        "CSE = [12, 8, 8]\n",
        "AD = [474, 478, 478]\n",
        "\n",
        "# Set position of bar on X axis\n",
        "br1 = np.arange(len(IT))\n",
        "br2 = [x + barWidth for x in br1]\n",
        "br3 = [x + barWidth for x in br2]\n",
        "br4 = [x + barWidth for x in br3]\n",
        "\n",
        "# Make the plot\n",
        "plt.bar(br1, IT, color ='r', width = barWidth,\n",
        "\t\tedgecolor ='grey', label ='TP')\n",
        "plt.bar(br2, ECE, color ='g', width = barWidth,\n",
        "\t\tedgecolor ='grey', label ='TN')\n",
        "plt.bar(br3, CSE, color ='b', width = barWidth,\n",
        "\t\tedgecolor ='grey', label ='FP')\n",
        "plt.bar(br4, AD, color ='y', width = barWidth,\n",
        "\t\tedgecolor ='grey', label ='FN')\n",
        "\n",
        "# Adding Xticks\n",
        "# plt.xlabel('Branch', fontweight ='bold', fontsize = 15)\n",
        "# plt.ylabel('Students passed', fontweight ='bold', fontsize = 15)\n",
        "plt.xticks([r + barWidth for r in range(len(IT))],\n",
        "\t\t['RF', 'ADB', 'XGB'])\n",
        "\n",
        "plt.legend()\n",
        "plt.show()\n"
      ],
      "execution_count": null,
      "outputs": [
        {
          "output_type": "display_data",
          "data": {
            "image/png": "[encoded data removed]",
            "text/plain": [
              "<Figure size 576x432 with 1 Axes>"
            ]
          },
          "metadata": {}
        }
      ]
    },
    {
      "cell_type": "code",
      "metadata": {
        "id": "57ClrGaLXd3K",
        "colab": {
          "base_uri": "https://localhost:8080/",
          "height": 592
        },
        "outputId": "4d5f0855-419f-48da-f469-0c203af2acfa"
      },
      "source": [
        "import numpy as np\n",
        "import matplotlib.pyplot as plt\n",
        "\n",
        "# set width of bar\n",
        "barWidth = 0.07\n",
        "fig = plt.subplots(figsize =(15, 10))\n",
        "\n",
        "# set height of bar\n",
        "IT = [0.987, 0.989, 0.992]\n",
        "ECE = [0.995,0.993, 1.00]\n",
        "CSE = [0.975, 0.983, 0.983]\n",
        "spec = [0.995, 0.993, 1.000]\n",
        "sen = [0.004, 0.996, 0.000]\n",
        "npv = [0.975, 0.983, 0.983]\n",
        "fnr = [0.199, 0.013, 0.013]\n",
        "mcc = [0.973, 0.979, 0.985]\n",
        "f1 = [0.985, 0.988, 0.991]\n",
        "\n",
        "# Set position of bar on X axis\n",
        "br1 = np.arange(len(IT))\n",
        "br2 = [x + barWidth for x in br1]\n",
        "br3 = [x + barWidth for x in br2]\n",
        "br4 = [x + barWidth for x in br3]\n",
        "br5 = [x + barWidth for x in br4]\n",
        "br6 = [x + barWidth for x in br5]\n",
        "br7 = [x + barWidth for x in br6]\n",
        "br8 = [x + barWidth for x in br7]\n",
        "br9 = [x + barWidth for x in br8]\n",
        "\n",
        "# Make the plot\n",
        "plt.bar(br1, IT, color ='blue', width = barWidth,\n",
        "\t\tedgecolor ='grey', label ='Accuracy')\n",
        "plt.bar(br2, ECE, color ='orange', width = barWidth,\n",
        "\t\tedgecolor ='grey', label ='Precision')\n",
        "plt.bar(br3, CSE, color ='green', width = barWidth,\n",
        "\t\tedgecolor ='grey', label ='Recall')\n",
        "plt.bar(br4, spec, color ='red', width = barWidth,\n",
        "\t\tedgecolor ='grey', label ='Specificity')\n",
        "plt.bar(br5, sen, color ='purple', width = barWidth,\n",
        "\t\tedgecolor ='grey', label ='FPR')\n",
        "plt.bar(br6, npv, color ='brown', width = barWidth,\n",
        "\t\tedgecolor ='grey', label ='NPV')\n",
        "plt.bar(br7, fnr, color ='pink', width = barWidth,\n",
        "\t\tedgecolor ='grey', label ='FNR')\n",
        "plt.bar(br8, mcc, color ='olive', width = barWidth,\n",
        "\t\tedgecolor ='grey', label ='MCC')\n",
        "plt.bar(br9, f1, color ='cyan', width = barWidth,\n",
        "\t\tedgecolor ='grey', label ='F1-Score')\n",
        "\n",
        "# Adding Xticks\n",
        "# plt.xlabel('Branch', fontweight ='bold', fontsize = 15)\n",
        "# plt.ylabel('Students passed', fontweight ='bold', fontsize = 15)\n",
        "plt.xticks([r + barWidth for r in range(len(IT))],\n",
        "\t\t['RF', 'ADB', 'XGB'])\n",
        "\n",
        "plt.legend()\n",
        "plt.show()\n"
      ],
      "execution_count": null,
      "outputs": [
        {
          "output_type": "display_data",
          "data": {
            "image/png": "[encoded data removed]",
            "text/plain": [
              "<Figure size 1080x720 with 1 Axes>"
            ]
          },
          "metadata": {}
        }
      ]
    },
    {
      "cell_type": "code",
      "metadata": {
        "id": "1gFO71Q72R3y"
      },
      "source": [
        "# import matplotlib.pyplot as plt\n",
        "# import pandas as pd\n",
        "  \n",
        "# data = {'Quantity': [320,450,300,120,280],\n",
        "#         'Price': [800,250,1200,150,300],\n",
        "#         'Product':[800,250,1200,150,300],\n",
        "#         'height':[800,250,1200,150,300]\n",
        "#        }\n",
        "# df = pd.DataFrame(data,columns=['Quantity','Price','Product','height'], index = ['Computer','Monitor','Laptop','Printer','Tablet'])\n",
        "\n",
        "# plt.style.use('ggplot')\n",
        "\n",
        "# df.plot.barh()\n",
        "\n",
        "# plt.title('Store Inventory')\n",
        "# plt.ylabel('Product')\n",
        "# plt.xlabel('Quantity')\n",
        "# plt.show()"
      ],
      "execution_count": null,
      "outputs": []
    },
    {
      "cell_type": "code",
      "metadata": {
        "colab": {
          "base_uri": "https://localhost:8080/",
          "height": 794
        },
        "id": "oGkygYA-wGoW",
        "outputId": "a5f413ec-2a40-4b58-f254-c21ca795e552"
      },
      "source": [
        "import numpy as np\n",
        "import matplotlib.pyplot as plt\n",
        "\n",
        "plt.figure(figsize=(24,12))\n",
        "\n",
        "data = [[ 55,85,90,36,50],\n",
        "        [ 55,85,90,36,50],\n",
        "        [ 55,85,90,36,50],\n",
        "        [ 55,85,90,36,50],\n",
        "        [ 55,85,90,36,50]]\n",
        "\n",
        "columns = ('Freeze', 'Wind', 'Flood', 'Quake', 'Hail')\n",
        "rows = ['%d year' % x for x in (100, 50, 20, 10, 5)]\n",
        "\n",
        "values = np.arange(0, 100, 5)\n",
        "value_increment = 5\n",
        "\n",
        "# Get some pastel shades for the colors\n",
        "colors = plt.cm.BuPu(np.linspace(0.5, 1, len(rows)))\n",
        "n_rows = len(data)\n",
        "\n",
        "index = np.arange(len(columns)) + 0.3\n",
        "bar_width = 0.4\n",
        "\n",
        "# Initialize the vertical-offset for the stacked bar chart.\n",
        "y_offset = np.zeros(len(columns))\n",
        "\n",
        "# Plot bars and create text labels for the table\n",
        "cell_text = []\n",
        "for row in range(n_rows):\n",
        "    plt.bar(index, data[row], bar_width, bottom=y_offset, color=colors[row])\n",
        "    y_offset = y_offset + data[row]\n",
        "    cell_text.append(['%1.1f' % (x / 10.0) for x in y_offset])\n",
        "# Reverse colors and text labels to display the last value at the top.\n",
        "colors = colors[::-1]\n",
        "cell_text.reverse()\n",
        "\n",
        "# Add a table at the bottom of the axes\n",
        "the_table = plt.table(cellText=cell_text,\n",
        "                      rowLabels=rows,\n",
        "                      rowColours=colors,\n",
        "                      colLabels=columns,\n",
        "                      loc='bottom')\n",
        "\n",
        "# Adjust layout to make room for the table:\n",
        "plt.subplots_adjust(left=0.2, bottom=0.1)\n",
        "\n",
        "plt.ylabel(\"Loss in ${0}'s\".format(value_increment))\n",
        "plt.yticks(values * value_increment, ['%d' % val for val in values])\n",
        "plt.xticks([])\n",
        "plt.title('Loss by Disaster')\n",
        "\n",
        "plt.show()\n"
      ],
      "execution_count": null,
      "outputs": [
        {
          "output_type": "display_data",
          "data": {
            "image/png": "[encoded data removed]",
            "text/plain": [
              "<Figure size 1728x864 with 1 Axes>"
            ]
          },
          "metadata": {}
        }
      ]
    },
    {
      "cell_type": "code",
      "metadata": {
        "id": "1j6GPCuybaut"
      },
      "source": [
        "from sklearn.ensemble import RandomForestClassifier,GradientBoostingClassifier\n",
        "from sklearn.tree import DecisionTreeClassifier\n",
        "from sklearn.model_selection import cross_val_predict,GridSearchCV\n",
        "from sklearn.metrics import confusion_matrix,accuracy_score,roc_auc_score\n",
        "from sklearn.model_selection import train_test_split\n",
        "from sklearn.preprocessing import  MinMaxScaler\n",
        "from sklearn.neighbors import KNeighborsClassifier\n",
        "\n",
        "from xgboost import XGBClassifier"
      ],
      "execution_count": null,
      "outputs": []
    },
    {
      "cell_type": "code",
      "metadata": {
        "id": "rjkS9rP2csm2"
      },
      "source": [
        "#external test data\n",
        "\n",
        "XTest = x[3262:]\n",
        "YTest = y[3262:]\n",
        "\n",
        "x = x[:3262]\n",
        "y = y[:3262]"
      ],
      "execution_count": null,
      "outputs": []
    },
    {
      "cell_type": "markdown",
      "metadata": {
        "id": "WTn0baGzeOgr"
      },
      "source": [
        "**Gradient Boost**"
      ]
    },
    {
      "cell_type": "code",
      "metadata": {
        "colab": {
          "base_uri": "https://localhost:8080/",
          "height": 53
        },
        "id": "XmTOlGpkeNi-",
        "outputId": "52878921-311d-4147-e031-833205e89556"
      },
      "source": [
        "\"\"\"\n",
        "params = { \n",
        "    \"n_estimators\": [20,50,100],\n",
        "    \"max_depth\" : [3,5,7],\n",
        "    \"learning_rate\" : [0.1, 0.05, 0.01, 0.005],\n",
        "    \"subsample\" : [0.6,0.8,1.0] \n",
        "}\n",
        "\n",
        "gradientBoost = GradientBoostingClassifier()\n",
        "\n",
        "gridSCV = GridSearchCV(gradientBoost,params,cv=10)\n",
        "gridSCV.fit(x,y.values.ravel())\n",
        "best_gb = gridSCV.best_estimator_\n",
        "\n",
        "gridSCV.best_params_\n",
        "\"\"\""
      ],
      "execution_count": null,
      "outputs": [
        {
          "output_type": "execute_result",
          "data": {
            "application/vnd.google.colaboratory.intrinsic+json": {
              "type": "string"
            },
            "text/plain": [
              "'\\nparams = { \\n    \"n_estimators\": [20,50,100],\\n    \"max_depth\" : [3,5,7],\\n    \"learning_rate\" : [0.1, 0.05, 0.01, 0.005],\\n    \"subsample\" : [0.6,0.8,1.0] \\n}\\n\\ngradientBoost = GradientBoostingClassifier()\\n\\ngridSCV = GridSearchCV(gradientBoost,params,cv=10)\\ngridSCV.fit(x,y.values.ravel())\\nbest_gb = gridSCV.best_estimator_\\n\\ngridSCV.best_params_\\n'"
            ]
          },
          "metadata": {},
          "execution_count": 889
        }
      ]
    },
    {
      "cell_type": "code",
      "metadata": {
        "id": "kvJhk0wZqZBz"
      },
      "source": [
        "# best_gb.fit(x.values,y.values.ravel())\n",
        "# gboostPred = cross_val_predict(best_gb, X=x, y=y.values.ravel(), cv=10)\n",
        "# sns.heatmap(confusion_matrix(y.values.ravel(),gboostPred), annot=True,fmt=\"d\")\n",
        "# plt.show()\n",
        "# print(accuracy_score(y.values.ravel(),gboostPred))"
      ],
      "execution_count": null,
      "outputs": []
    },
    {
      "cell_type": "code",
      "metadata": {
        "id": "6PoKESJosP9E"
      },
      "source": [
        "# gboostPredTest = cross_val_predict(best_gb, X=XTest, y=YTest.values.ravel(), cv=10)\n",
        "# sns.heatmap(confusion_matrix(YTest.values.ravel(),gboostPredTest), annot=True,fmt=\"d\")\n",
        "# plt.show()\n",
        "# print(accuracy_score(YTest.values.ravel(),gboostPredTest))"
      ],
      "execution_count": null,
      "outputs": []
    },
    {
      "cell_type": "markdown",
      "metadata": {
        "id": "Dvy-x-6os83B"
      },
      "source": [
        "**XGBoost**"
      ]
    },
    {
      "cell_type": "code",
      "metadata": {
        "colab": {
          "base_uri": "https://localhost:8080/",
          "height": 70
        },
        "id": "DNkyL-DZs3LC",
        "outputId": "ee338e16-20e0-495c-f0b9-b807f572f52e"
      },
      "source": [
        "#XGBoost\n",
        "\"\"\"\n",
        "params = {\n",
        "    \"min_child_weight\" : [0.1, 0.2, 0.5],\n",
        "    \"max_depth\" : [2, 4, 6, 8],\n",
        "    \"subsample\" : [0.1, 0.2, 0.5, 1],\n",
        "    \"n_estimators\" : range(50,450,50),\n",
        "    \"learning_rate\" : [0.1, 0.05, 0.01]    \n",
        "}\n",
        "\n",
        "xgboost = XGBClassifier()\n",
        "gridSCV = GridSearchCV(xgboost,params,cv=10)\n",
        "gridSCV.fit(x.values,y.values.ravel())\n",
        "best_xgboost = gridSCV.best_estimator_\n",
        "gridSCV.best_params_\n",
        "\"\"\""
      ],
      "execution_count": null,
      "outputs": [
        {
          "output_type": "execute_result",
          "data": {
            "application/vnd.google.colaboratory.intrinsic+json": {
              "type": "string"
            },
            "text/plain": [
              "'\\nparams = {\\n    \"min_child_weight\" : [0.1, 0.2, 0.5],\\n    \"max_depth\" : [2, 4, 6, 8],\\n    \"subsample\" : [0.1, 0.2, 0.5, 1],\\n    \"n_estimators\" : range(50,450,50),\\n    \"learning_rate\" : [0.1, 0.05, 0.01]    \\n}\\n\\nxgboost = XGBClassifier()\\ngridSCV = GridSearchCV(xgboost,params,cv=10)\\ngridSCV.fit(x.values,y.values.ravel())\\nbest_xgboost = gridSCV.best_estimator_\\ngridSCV.best_params_\\n'"
            ]
          },
          "metadata": {},
          "execution_count": 892
        }
      ]
    },
    {
      "cell_type": "code",
      "metadata": {
        "id": "U75Tma1f14vx"
      },
      "source": [
        "# #best_xgboost = XGBClassifier(min_child_weight=0.4,max_depth=8,subsample=0.5,n_estimators=250,learning_rate=0.05)\n",
        "# best_xgboost.fit(x.values,y.values.ravel())\n",
        "# xgboostPred = cross_val_predict(best_xgboost, X=x, y=y.values.ravel(), cv=10)\n",
        "# sns.heatmap(confusion_matrix(y.values.ravel(),xgboostPred), annot=True,fmt=\"d\")\n",
        "# plt.show()\n",
        "# print(accuracy_score(y.values.ravel(),xgboostPred))"
      ],
      "execution_count": null,
      "outputs": []
    },
    {
      "cell_type": "code",
      "metadata": {
        "id": "OU9ynazL15bw"
      },
      "source": [],
      "execution_count": null,
      "outputs": []
    }
  ]
}